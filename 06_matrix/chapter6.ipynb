{
 "cells": [
  {
   "cell_type": "markdown",
   "id": "f60cde6c",
   "metadata": {},
   "source": [
    "# Chapter 6. 행렬과 벡터 계산"
   ]
  },
  {
   "cell_type": "markdown",
   "id": "0fa13602",
   "metadata": {},
   "source": [
    "## 6.1 문제 소개"
   ]
  },
  {
   "cell_type": "markdown",
   "id": "b52545d5",
   "metadata": {},
   "source": [
    "이 장에서는 유체 확산 예제를 반복해서 사용하며 행렬과 벡터 연산을 살펴본다. <br>\n",
    "<br>\n",
    "확산 방정식은 다음과 같다. <br>\n",
    "$$\n",
    "\\frac{\\partial}{\\partial t} u(x,t) = D \\cdot \\frac{\\partial^2}{\\partial x^2} u(x,t)\n",
    "$$ <br>\n",
    "여기서 $ u $는 확산하는 유체의 양을 나타내는 벡터이고, $ D $는 확산 계수이다. 예제가 복잡해지지 않도록 코드에서는 $ D = 1 $로 놓는다. <br>\n",
    "<br>\n",
    "시간과 공간상에서 연속적인 확산 방정식을 이용해서 불연속적인 공간과 시간으로 근삿값을 구하려한다. 이때 오일러 방법(Euler's Method)을 이용한다. 오일러 방법은 다음과 같다. <br>\n",
    "$$\n",
    "\\frac{\\partial}{\\partial t} u(x,t) \\approx \\frac{u(x,t+dt) - u(x,t)}{dt}\n",
    "$$ <br>\n",
    "여기서, $ u(x, t+dt) $는 유한 차분법을 이용해서 다음과 같이 계산할 수 있다. <br>\n",
    "$$\n",
    "u(x, t+dt) = u(x,t) + dt \\star D \\star \\frac{u(x+dx,t) + u(x-dx,t) - 2 u(x,t)}{dx^2}\n",
    "$$"
   ]
  },
  {
   "cell_type": "markdown",
   "id": "139dff8a",
   "metadata": {},
   "source": [
    "**예제 6-1** 단순(1차원) 확산 의사 코드"
   ]
  },
  {
   "cell_type": "code",
   "execution_count": null,
   "id": "ef35c391",
   "metadata": {},
   "outputs": [],
   "source": [
    "# 초기 조건을 생성한다.\n",
    "u = vector of length N\n",
    "for i in range(N):\n",
    "    u = 0 if there is water, 1 if there is dye\n",
    "    \n",
    "# 초기 조건을 변경한다.\n",
    "D = 1\n",
    "t = 0\n",
    "dt = 0.0001\n",
    "while True:\n",
    "    print(f\"Current time is: {t}\")\n",
    "    unew = vector of size N\n",
    "    \n",
    "    # 행렬의 각 셀을 갱신한다.\n",
    "    for i in range(N):\n",
    "        unew[i] = u[i] + D * dt * (u[(i+1) % N] + u[(i-1) % N] - * u[i])\n",
    "    # 갱신된 해법을 u로 옮긴다.\n",
    "    u = unew\n",
    "    \n",
    "    visualize(u)"
   ]
  },
  {
   "cell_type": "markdown",
   "id": "45f06560",
   "metadata": {},
   "source": [
    "2차원 확산 방정식은 다음과 같다. <br>\n",
    "<br>\n",
    "$$\n",
    "\\frac{\\partial}{\\partial t} u(x,y,t) = D \\cdot \\left( \\frac{\\partial^2}{\\partial x^2} u(x,y,t) + \\frac{\\partial^2}{\\partial y^2} u(x,y,t) \\right)\n",
    "$$"
   ]
  },
  {
   "cell_type": "markdown",
   "id": "367159fe",
   "metadata": {},
   "source": [
    "**예제 6-2** 2차원 확산을 계산하는 알고리즘"
   ]
  },
  {
   "cell_type": "code",
   "execution_count": null,
   "id": "45eb7a4d",
   "metadata": {},
   "outputs": [],
   "source": [
    "for i in range(N):\n",
    "    for j in range(M):\n",
    "        unew[i][j] = u[i][j] + dt * (\n",
    "            (u[(i + 1) % N][j] + u[(i - 1) % N][j] - 2 * u[i][j]) + # d^2 u / dx^2\n",
    "            (u[i][(j + 1) % M] + u[i][(j - 1) % M] - 2 * u[i][j])   # d^2 u / dy^2\n",
    "        )"
   ]
  },
  {
   "cell_type": "markdown",
   "id": "70ae8a3e",
   "metadata": {},
   "source": [
    "## 6.2 파이썬의 리트스만으로 충분할까?"
   ]
  },
  {
   "cell_type": "markdown",
   "id": "03ef1b8d",
   "metadata": {},
   "source": [
    "**예제 6-3** 순수 파이썬으로 작성한 2차원 확산"
   ]
  },
  {
   "cell_type": "code",
   "execution_count": null,
   "id": "6abd116b",
   "metadata": {},
   "outputs": [],
   "source": [
    "grid_shape = (640, 640)\n",
    "\n",
    "# 행렬을 받아 변화된 상태를 반환하는 함수.\n",
    "def evolve(grid, dt, D=1.0):\n",
    "    xmax, ymax = grid_shape\n",
    "    new_grid = [[0.0 for y in range(grid_shape[1])] for x in range(grid_shape[0])]\n",
    "    for i in range(xmax):\n",
    "        for j in range(ymax):\n",
    "            grid_xx = (\n",
    "                grid[(i + 1) % xmax][j] + grid[(i - 1) % xmax][j] - 2.0 * grid[i][j]\n",
    "            )\n",
    "            grid_yy = (\n",
    "                grid[i][(j + 1) % ymax] + grid[i][(j - 1) % ymax] - 2.0 * grid[i][j]\n",
    "            )\n",
    "            new_grid[i][j] = grid[i][j] + D * (grid_xx + grid_yy) * dt\n",
    "    return new_grid"
   ]
  },
  {
   "cell_type": "markdown",
   "id": "e805b035",
   "metadata": {},
   "source": [
    "**예제 6-4** 순수 파이썬으로 작성한 2차원 확산 방정식의 초기화"
   ]
  },
  {
   "cell_type": "code",
   "execution_count": null,
   "id": "8dd01214",
   "metadata": {},
   "outputs": [],
   "source": [
    "def run_experiment(num_iterations):\n",
    "    # 초기 조건을 설정한다.\n",
    "    grid = [[0.0 for y in range(grid_shape[1])] for x in range(grid_shape[0])]\n",
    "\n",
    "    # 시뮬레이션 영역의 중간에 물감이 한 방울\n",
    "    # 떨어진 상태를 시뮬레이션하기 위한 초기 조건들\n",
    "    block_low = int(grid_shape[0] * 0.4)\n",
    "    block_high = int(grid_shape[0] * 0.5)\n",
    "    for i in range(block_low, block_high):\n",
    "        for j in range(block_low, block_high):\n",
    "            grid[i][j] = 0.005\n",
    "\n",
    "    # 초기 조건을 변경한다.\n",
    "    start = time.time()\n",
    "    for i in range(num_iterations):\n",
    "        grid = evolve(grid, 0.1)\n",
    "    return time.time() - start"
   ]
  },
  {
   "cell_type": "markdown",
   "id": "c6c7145f",
   "metadata": {},
   "source": [
    "**예제 6-5** 순수 파이썬 2차원 확산 방정식 프로파일링"
   ]
  },
  {
   "cell_type": "markdown",
   "id": "84a9a4e8",
   "metadata": {},
   "source": [
    "<span style=\"font-family: monospace\">\n",
    "~# kernprof -lv diffusion_python.py\n",
    "</span>"
   ]
  },
  {
   "cell_type": "code",
   "execution_count": null,
   "id": "5759df7b",
   "metadata": {},
   "outputs": [],
   "source": [
    "Wrote profile results to diffusion_python.py.lprof\n",
    "Timer unit: 1e-06 s\n",
    "\n",
    "Total time: 786.236 s\n",
    "File: diffusion_python.py\n",
    "Function: evolve at line 13\n",
    "\n",
    "Line #      Hits         Time  Per Hit   % Time  Line Contents\n",
    "==============================================================\n",
    "    13                                           @profile\n",
    "    14                                           def evolve(grid, dt, D=1.0):\n",
    "    15       500        935.0      1.9      0.0      xmax, ymax = grid_shape\n",
    "    16       500   19099559.0  38199.1      2.4      new_grid = [[0.0 for x in range(grid_shape[1])] for x in range(grid_shape[0])]\n",
    "    17    320500     172347.0      0.5      0.0      for i in range(xmax):\n",
    "    18 205120000   97443356.0      0.5     12.4          for j in range(ymax):\n",
    "    19 204800000   97762149.0      0.5     12.4              grid_xx = (\n",
    "    20 204800000  169351245.0      0.8     21.5                  grid[(i + 1) % xmax][j] + grid[(i - 1) % xmax][j] - 2.0 * grid[i][j]\n",
    "    21                                                       )\n",
    "    22 204800000   95734000.0      0.5     12.2              grid_yy = (\n",
    "    23 204800000  167381414.0      0.8     21.3                  grid[i][(j + 1) % ymax] + grid[i][(j - 1) % ymax] - 2.0 * grid[i][j]\n",
    "    24                                                       )\n",
    "    25 204800000  139290578.0      0.7     17.7              new_grid[i][j] = grid[i][j] + D * (grid_xx + grid_yy) * dt\n",
    "    26       500        335.0      0.7      0.0      return new_grid"
   ]
  },
  {
   "cell_type": "markdown",
   "id": "d2e87c5b",
   "metadata": {},
   "source": [
    "프로파일링 결과에 따르면 도함수를 계산하고 행렬의 값을 갱신하는데 대부분의 시간이 소비됐다. <br>\n",
    "<br>\n",
    "Line 15는 실행될 때마다 시간을 많이 잡아먹는데, 이는 grid_shape를 지역 네임스페이스에서 가져와야 하기 때문이다. <br>\n",
    "<br>\n",
    "Line 18은 320,500번 실행되었다. 처리하는 격자의 xmax = 640이고 함수를 500번 실행했기 때문이다. 횟수는 (640 + 1) * 500으로 계산할 수 있는데, 루프 종료 조건을 만나려고 추가로 한 번 더 실행되기 때문이다. <br>\n",
    "<br>\n",
    "Line 26은 500번 실행되었다. 즉 함수를 500번 실행해 프로파일 했다는 뜻이다. <br>\n",
    "<br>\n",
    "Line 16에서 Per Hit와 % Time의 차이가 큰데, 이는 이 줄이 실행하는 데 시간이 꽤 걸리는 반면, 다른 줄에 비해 훨씬 덜 호출되기 때문이다. <br>\n",
    "<br>\n",
    "evolve에 어떤 값이 들어오든 new_grid 리스트는 항상 모양과 크기, 저장값이 같으므로, 리스트를 한 번만 저장하고 재활용하는 방법으로 최적화할 수 있다. (반복되는 코드를 루프 밖으로 빼내는 작업)"
   ]
  },
  {
   "cell_type": "markdown",
   "id": "e2f88b76",
   "metadata": {},
   "source": [
    "**예제 6-6** 메모리 할당을 줄인 순수 파이썬 2차원 확산 방정식 코드"
   ]
  },
  {
   "cell_type": "code",
   "execution_count": null,
   "id": "f8214ee9",
   "metadata": {},
   "outputs": [],
   "source": [
    "@profile\n",
    "def evolve(grid, dt, out, D=1.0):\n",
    "    xmax, ymax = grid_shape\n",
    "    for i in range(xmax):\n",
    "        for j in range(ymax):\n",
    "            grid_xx = (\n",
    "                grid[(i + 1) % xmax][j] + grid[(i - 1) % xmax][j] - 2.0 * grid[i][j]\n",
    "            )\n",
    "            grid_yy = (\n",
    "                grid[i][(j + 1) % ymax] + grid[i][(j - 1) % ymax] - 2.0 * grid[i][j]\n",
    "            )\n",
    "            out[i][j] = grid[i][j] + D * (grid_xx + grid_yy) * dt\n",
    "\n",
    "\n",
    "def run_experiment(num_iterations):\n",
    "    # setting up initial conditions\n",
    "    scratch = [[0.0 for x in range(grid_shape[1])] for x in range(grid_shape[0])]\n",
    "    grid = [[0.0 for x in range(grid_shape[1])] for x in range(grid_shape[0])]\n",
    "\n",
    "    block_low = int(grid_shape[0] * 0.4)\n",
    "    block_high = int(grid_shape[0] * 0.5)\n",
    "    for i in range(block_low, block_high):\n",
    "        for j in range(block_low, block_high):\n",
    "            grid[i][j] = 0.005\n",
    "\n",
    "    start = time.time()\n",
    "    for i in range(num_iterations):\n",
    "        evolve(grid, 0.1, scratch)\n",
    "        grid, scratch = scratch, grid\n",
    "    return time.time() - start"
   ]
  },
  {
   "cell_type": "markdown",
   "id": "eb58a6d7",
   "metadata": {},
   "source": [
    "**예제 6-7** 메모리 할당을 줄인 파이썬 확산 방정식 코드의 프로파일링 결과"
   ]
  },
  {
   "cell_type": "markdown",
   "id": "20467c32",
   "metadata": {},
   "source": [
    "<span style=\"font-family: monospace\">\n",
    "~# kernprof -lv diffusion_python_memory.py\n",
    "</span>"
   ]
  },
  {
   "cell_type": "code",
   "execution_count": null,
   "id": "3be6c968",
   "metadata": {},
   "outputs": [],
   "source": [
    "Wrote profile results to diffusion_python_memory.py.lprof\n",
    "Timer unit: 1e-06 s\n",
    "\n",
    "Total time: 528.467 s\n",
    "File: diffusion_python_memory.py\n",
    "Function: evolve at line 13\n",
    "\n",
    "Line #      Hits         Time  Per Hit   % Time  Line Contents\n",
    "==============================================================\n",
    "    13                                           @profile\n",
    "    14                                           def evolve(grid, dt, out, D=1.0):\n",
    "    15       500        427.0      0.9      0.0      xmax, ymax = grid_shape\n",
    "    16    320500     101954.0      0.3      0.0      for i in range(xmax):\n",
    "    17 205120000   59498867.0      0.3     11.3          for j in range(ymax):\n",
    "    18 204800000   58363954.0      0.3     11.0              grid_xx = (\n",
    "    19 204800000  125491325.0      0.6     23.7                  grid[(i + 1) % xmax][j] + grid[(i - 1) % xmax][j] - 2.0 * grid[i][j]\n",
    "    20                                                       )\n",
    "    21 204800000   58815116.0      0.3     11.1              grid_yy = (\n",
    "    22 204800000  128486419.0      0.6     24.3                  grid[i][(j + 1) % ymax] + grid[i][(j - 1) % ymax] - 2.0 * grid[i][j]\n",
    "    23                                                       )\n",
    "    24 204800000   97709289.0      0.5     18.5              out[i][j] = grid[i][j] + D * (grid_xx + grid_yy) * dt"
   ]
  },
  {
   "cell_type": "markdown",
   "id": "2f543524",
   "metadata": {},
   "source": [
    "## 6.3 메모리 단편화"
   ]
  },
  {
   "cell_type": "markdown",
   "id": "bba5a440",
   "metadata": {},
   "source": [
    "파이썬의 리스트는 실제 데이터를 가리키는 포인터를 저장한다. 데이터 타입에 상관없이 리스트에 어떤 데이터도 저장할 수 있으므로 일반적으로 좋은 선택이지만, 벡터와 행렬 연산에서는 성능 저하의 원인이 된다."
   ]
  },
  {
   "cell_type": "markdown",
   "id": "15ceb68d",
   "metadata": {},
   "source": [
    "**예제 6-8** 메모리 할당을 줄인 2차원 확산 파이썬 방정식 코드의 성능 측정 결과 (help!!)"
   ]
  },
  {
   "cell_type": "markdown",
   "id": "5c979a68",
   "metadata": {},
   "source": [
    "<span style=\"font-family: monospace\">\n",
    "~# git clone --depth 1 https://git.kernel.org/pub/scm/linux/kernel/git/torvalds/linux.git <br>\n",
    "~# cd linux/tools/perf <br>\n",
    "~# make <br>\n",
    "~# cp perf /usr/bin <br>\n",
    "~# apt-get install build-essential git flex bison <br>\n",
    "</span>"
   ]
  },
  {
   "cell_type": "markdown",
   "id": "9b365012",
   "metadata": {},
   "source": [
    "<span style=\"font-family: monospace\">\n",
    "~# perf stat -e cycles,instructions,cache-references,cache-misses,branches,branch-misses,task-clock,faults,minor-faults,cs,migrations python3 diffusion_python_memory.py\n",
    "</span>"
   ]
  },
  {
   "cell_type": "code",
   "execution_count": null,
   "id": "09e10c51",
   "metadata": {},
   "outputs": [],
   "source": [
    " Performance counter stats for 'python3 diffusion_python_memory.py':\n",
    "\n",
    "   <not supported>      cycles\n",
    "   <not supported>      instructions\n",
    "   <not supported>      cache-references\n",
    "   <not supported>      cache-misses\n",
    "   <not supported>      branches\n",
    "   <not supported>      branch-misses\n",
    "          94549.53 msec task-clock                #    1.000 CPUs utilized\n",
    "              9650      faults                    #  102.063 /sec\n",
    "              9650      minor-faults              #  102.063 /sec\n",
    "                44      cs                        #    0.465 /sec\n",
    "                 0      migrations                #    0.000 /sec\n",
    "\n",
    "      94.562164800 seconds time elapsed\n",
    "\n",
    "      94.552682000 seconds user\n",
    "       0.000000000 seconds sys"
   ]
  },
  {
   "cell_type": "markdown",
   "id": "2edc8e23",
   "metadata": {},
   "source": [
    "- task-clock: 소비한 총 클럭 수를 나타낸다.\n",
    "- instrunctions: 코드에서 얼마나 많은 CPU 명령어가 실행됐는지를 나타낸다.\n",
    "- cycles: 명령어를 실행하는 데 CPU 사이클이 얼마나 걸렸는지를 나타낸다.\n",
    "- cs: I/O 같은 커널 작업이 끝나기를 기다리거나, 다른 애플리케이션이 실행되는 동안 대기하거나, 다른 CPU 코어로 작업을 옮기려고 프로그램이 얼마나 오래 멈춰 있었는지를 알려준다.\n",
    "- cache-references: 캐시의 데이터를 참조하면 증가하는 지표.\n",
    "- cache-misses: 데이터가 캐시에 존재하지 않아서 RAM에서 읽어와야 하면 증가하는 지표.\n",
    "- branch: 어떤 조건의 결과에 따라 코드의 이 부분이나 저 부분(코드 실행 시 발생하는 분기)을 실행할 수 있다. CPU는 분기가 어느 방향으로 일어날지 예측하고 적잘한 분기에 속한 명령을 미리 읽어온다.\n",
    "- branch-misses: 분기 예측이 틀리면 branch-miss가 발생한다.\n",
    "- fault: 메모리가 할당됐을 때, 커널은 메모리에 대한 참조를 프로그램에 알려주기만 한다. 하지만 나중에 그 메모리가 처음 사용되면 운영체제는 가벼운 페이지 폴트 인터럽트를 발생시켜 실행 중이던 프로그램을 잠시 멈추고 실제 필요한 메모리를 할당한다."
   ]
  },
  {
   "cell_type": "code",
   "execution_count": 7,
   "id": "266b2da7",
   "metadata": {},
   "outputs": [],
   "source": [
    "from array import array\n",
    "import numpy\n",
    "\n",
    "def norm_square_list(vector):\n",
    "    norm = 0\n",
    "    for v in vector:\n",
    "        norm += v * v\n",
    "    return norm\n",
    "\n",
    "def norm_square_list_comprehension(vector):\n",
    "    return sum([v * v for v in vector])\n",
    "\n",
    "def norm_square_array(vector):\n",
    "    norm = 0\n",
    "    for v in vector:\n",
    "        norm += v * v\n",
    "    return norm\n",
    "\n",
    "def norm_square_numpy(vector):\n",
    "    return numpy.sum(vector * vector)\n",
    "\n",
    "def norm_square_numpy_dot(vector):\n",
    "    return numpy.dot(vector, vector)"
   ]
  },
  {
   "cell_type": "code",
   "execution_count": 9,
   "id": "98a8c34a",
   "metadata": {},
   "outputs": [
    {
     "name": "stdout",
     "output_type": "stream",
     "text": [
      "74.3 ms ± 2.38 ms per loop (mean ± std. dev. of 7 runs, 10 loops each)\n"
     ]
    }
   ],
   "source": [
    "vector = list(range(1_000_000))\n",
    "%timeit norm_square_list(vector)"
   ]
  },
  {
   "cell_type": "code",
   "execution_count": 14,
   "id": "ea57af9f",
   "metadata": {},
   "outputs": [
    {
     "name": "stdout",
     "output_type": "stream",
     "text": [
      "95 ms ± 2.76 ms per loop (mean ± std. dev. of 7 runs, 10 loops each)\n"
     ]
    }
   ],
   "source": [
    "vector = list(range(1_000_000))\n",
    "%timeit norm_square_list_comprehension(vector)"
   ]
  },
  {
   "cell_type": "code",
   "execution_count": 11,
   "id": "629220f3",
   "metadata": {},
   "outputs": [
    {
     "name": "stdout",
     "output_type": "stream",
     "text": [
      "87.1 ms ± 8.21 ms per loop (mean ± std. dev. of 7 runs, 10 loops each)\n"
     ]
    }
   ],
   "source": [
    "vector_array = array('l', range(1_000_000))\n",
    "%timeit norm_square_array(vector_array)"
   ]
  },
  {
   "cell_type": "code",
   "execution_count": 12,
   "id": "2a56dc30",
   "metadata": {},
   "outputs": [
    {
     "name": "stdout",
     "output_type": "stream",
     "text": [
      "1.77 ms ± 17.2 µs per loop (mean ± std. dev. of 7 runs, 100 loops each)\n"
     ]
    }
   ],
   "source": [
    "vector_np = numpy.arange(1_000_000)\n",
    "%timeit norm_square_numpy(vector_np)"
   ]
  },
  {
   "cell_type": "code",
   "execution_count": 13,
   "id": "fd78c22e",
   "metadata": {},
   "outputs": [
    {
     "name": "stdout",
     "output_type": "stream",
     "text": [
      "640 µs ± 36.1 µs per loop (mean ± std. dev. of 7 runs, 1000 loops each)\n"
     ]
    }
   ],
   "source": [
    "vector_np = numpy.arange(1_000_000)\n",
    "%timeit norm_square_numpy_dot(vector_np)"
   ]
  },
  {
   "cell_type": "markdown",
   "id": "b8fe539a",
   "metadata": {},
   "source": [
    "## 6.4 넘파이를 이용한 확산 방정식 해법"
   ]
  },
  {
   "cell_type": "code",
   "execution_count": 18,
   "id": "873e15a4",
   "metadata": {},
   "outputs": [
    {
     "data": {
      "text/plain": [
       "array([4, 1, 2, 3])"
      ]
     },
     "execution_count": 18,
     "metadata": {},
     "output_type": "execute_result"
    }
   ],
   "source": [
    "# np.roll(array, shitf, axis=None) 함수 소개\n",
    "import numpy as np\n",
    "np.roll([1,2,3,4], 1)"
   ]
  },
  {
   "cell_type": "code",
   "execution_count": 24,
   "id": "0a91c767",
   "metadata": {},
   "outputs": [
    {
     "data": {
      "text/plain": [
       "array([[6, 1, 2],\n",
       "       [3, 4, 5]])"
      ]
     },
     "execution_count": 24,
     "metadata": {},
     "output_type": "execute_result"
    }
   ],
   "source": [
    "np.roll([[1,2,3], [4,5,6]], 1, axis=None)"
   ]
  },
  {
   "cell_type": "code",
   "execution_count": 19,
   "id": "952349a0",
   "metadata": {},
   "outputs": [
    {
     "data": {
      "text/plain": [
       "array([[4, 5, 6],\n",
       "       [1, 2, 3]])"
      ]
     },
     "execution_count": 19,
     "metadata": {},
     "output_type": "execute_result"
    }
   ],
   "source": [
    "np.roll([[1,2,3], [4,5,6]], 1, axis=0)"
   ]
  },
  {
   "cell_type": "code",
   "execution_count": 23,
   "id": "18ae5fcd",
   "metadata": {},
   "outputs": [
    {
     "data": {
      "text/plain": [
       "array([[3, 1, 2],\n",
       "       [6, 4, 5]])"
      ]
     },
     "execution_count": 23,
     "metadata": {},
     "output_type": "execute_result"
    }
   ],
   "source": [
    "np.roll([[1,2,3], [4,5,6]], 1, axis=1)"
   ]
  },
  {
   "cell_type": "markdown",
   "id": "5c012466",
   "metadata": {},
   "source": [
    "**예제 6-9** numpy를 사용한 파이썬 확산 방정식 최초 버전"
   ]
  },
  {
   "cell_type": "code",
   "execution_count": null,
   "id": "88caa8c3",
   "metadata": {},
   "outputs": [],
   "source": [
    "from numpy import roll, zeros\n",
    "\n",
    "grid_shape = (640, 640)\n",
    "\n",
    "def laplacian(grid):\n",
    "    return (\n",
    "        roll(grid, +1, 0)\n",
    "        + roll(grid, -1, 0)\n",
    "        + roll(grid, +1, 1)\n",
    "        + roll(grid, -1, 1)\n",
    "        - 4 * grid\n",
    "    )\n",
    "\n",
    "def evolve(grid, dt, D=1):\n",
    "    return grid + dt * D * laplacian(grid)\n",
    "\n",
    "def run_experiment(num_iterations):\n",
    "    grid = zeros(grid_shape)\n",
    "\n",
    "    block_low = int(grid_shape[0] * 0.4)\n",
    "    block_high = int(grid_shape[0] * 0.5)\n",
    "    grid[block_low:block_high, block_low:block_high] = 0.005\n",
    "\n",
    "    for i in range(num_iterations):\n",
    "        grid = evolve(grid, 0.1)\n",
    "    return grid"
   ]
  },
  {
   "cell_type": "markdown",
   "id": "87cab026",
   "metadata": {},
   "source": [
    "**예제 6-10** numpy를 사용한 2차원 확산 방정식의 성능 측정(격자 크기: 640x640, 500회 반복)"
   ]
  },
  {
   "cell_type": "markdown",
   "id": "58cc9872",
   "metadata": {},
   "source": [
    "<span style=\"font-family: monospace\">\n",
    "~# perf stat -e cycles,instructions,cache-references,cache-misses,branches,branch-misses,task-clock,faults,minor-faults,cs,migrations python3 diffusion_numpy.py\n",
    "</span>"
   ]
  },
  {
   "cell_type": "code",
   "execution_count": null,
   "id": "87f45770",
   "metadata": {},
   "outputs": [],
   "source": [
    " Performance counter stats for 'python diffusion_numpy.py':\n",
    "\n",
    "     8,432,416,866      cycles                    #    2.886 GHz                      \n",
    "     7,114,758,602      instructions              #    0.84  insn per cycle           \n",
    "     1,040,831,469      cache-references          #  356.176 M/sec                    \n",
    "       216,490,683      cache-misses              #   20.800 % of all cache refs      \n",
    "     1,252,928,847      branches                  #  428.756 M/sec                    \n",
    "         8,174,531      branch-misses             #    0.65% of all branches          \n",
    "       2922.239426      task-clock (msec)         #    1.285 CPUs utilized          \n",
    "           403,282      faults                    #    0.138 M/sec                  \n",
    "           403,282      minor-faults              #    0.138 M/sec                  \n",
    "                96      cs                        #    0.033 K/sec                  \n",
    "                 5      migrations                #    0.002 K/sec                  \n",
    "\n",
    "       2.274377105 seconds time elapsed"
   ]
  },
  {
   "cell_type": "markdown",
   "id": "85bb0785",
   "metadata": {},
   "source": [
    "예제 6-7과 6-10을 비교해보자. <br>\n",
    "<br>\n",
    "6-10에서 instruction의 수가 훨씬 줄었는데, 이는 numpy의 벡터화 연산 덕분이다. 곱셈을 4번 하려고 명령을 4번 수행하는 대신 벡터화 연산으로 한 번에 수행하는 느낌. 또 다른 이유는 numpy는 모든 데이터를 수 형태로 저장한다고 가정하고 산술 연산에 최적화되어 있기 때문이다. <br>\n",
    "<br>\n",
    "numpy 버전에서 명령의 개수를 줄여 비효율적인 부분인 캐시 미스가 크게 개선되었다. (일반적으로는 명령어 개수가 적다고 해서 속도가 항상 빨라지는 것은 아니다.)"
   ]
  },
  {
   "cell_type": "markdown",
   "id": "e41ab8e1",
   "metadata": {},
   "source": [
    "**예제 6-11** 벡터 연산 기능을 제외한 numpy 2차원 확산 방정식의 성능(격자 크기: 640x640, 500회 반복)"
   ]
  },
  {
   "cell_type": "markdown",
   "id": "e033321d",
   "metadata": {},
   "source": [
    "<span style=\"font-family: monospace\">\n",
    "~# perf stat -e cycles,instructions,cache-references,cache-misses,branches,branch-misses,task-clock,faults,minor-faults,cs,migrations python3 diffusion_numpy.py\n",
    "</span>"
   ]
  },
  {
   "cell_type": "code",
   "execution_count": null,
   "id": "1bb422a7",
   "metadata": {},
   "outputs": [],
   "source": [
    " Performance counter stats for 'python diffusion_numpy.py':\n",
    "\n",
    "    50,086,999,350      cycles                    #    2.888 GHz                      \n",
    "    53,611,608,977      instructions              #    1.07  insn per cycle           \n",
    "     1,131,742,674      cache-references          #   65.266 M/sec                    \n",
    "       322,483,897      cache-misses              #   28.494 % of all cache refs      \n",
    "     4,001,923,035      branches                  #  230.785 M/sec                    \n",
    "         6,211,101      branch-misses             #    0.16% of all branches          \n",
    "      17340.464580      task-clock (msec)         #    1.000 CPUs utilized          \n",
    "           403,193      faults                    #    0.023 M/sec                  \n",
    "           403,193      minor-faults              #    0.023 M/sec                  \n",
    "                74      cs                        #    0.004 K/sec                  \n",
    "                 6      migrations                #    0.000 K/sec                  \n",
    "\n",
    "      17.339656586 seconds time elapsed"
   ]
  },
  {
   "cell_type": "markdown",
   "id": "bbd3c233",
   "metadata": {},
   "source": [
    "결과를 보면, numpy를 사용해서 얻은 63.3배의 속도 개선은 벡터 연산 때문이라기보다 메모리 단편화의 감소와 메모리 지역성 덕분이라고 볼 수 있다. 실제로 이전 실험과 비교해보면 63.3배의 속도 개선 중에서 벡터 연산의 비중은 13%밖에 되지 않는다."
   ]
  },
  {
   "cell_type": "markdown",
   "id": "42613283",
   "metadata": {},
   "source": [
    "**예제 6-12** 메모리 할당을 줄이기 위한 제자리 연산"
   ]
  },
  {
   "cell_type": "code",
   "execution_count": 2,
   "id": "1110ad32",
   "metadata": {},
   "outputs": [],
   "source": [
    "import numpy as np\n",
    "array1 = np.random.random((10,10))\n",
    "array2 = np.random.random((10,10))"
   ]
  },
  {
   "cell_type": "code",
   "execution_count": 3,
   "id": "5a906cf0",
   "metadata": {},
   "outputs": [
    {
     "data": {
      "text/plain": [
       "2323650968528"
      ]
     },
     "execution_count": 3,
     "metadata": {},
     "output_type": "execute_result"
    }
   ],
   "source": [
    "id(array1)"
   ]
  },
  {
   "cell_type": "code",
   "execution_count": 4,
   "id": "147c2c8c",
   "metadata": {},
   "outputs": [
    {
     "data": {
      "text/plain": [
       "2323650968528"
      ]
     },
     "execution_count": 4,
     "metadata": {},
     "output_type": "execute_result"
    }
   ],
   "source": [
    "array1 += array2\n",
    "id(array1)"
   ]
  },
  {
   "cell_type": "code",
   "execution_count": 6,
   "id": "0abf34fa",
   "metadata": {},
   "outputs": [
    {
     "data": {
      "text/plain": [
       "2323655893136"
      ]
     },
     "execution_count": 6,
     "metadata": {},
     "output_type": "execute_result"
    }
   ],
   "source": [
    "array1 = array1 + array2\n",
    "id(array1)"
   ]
  },
  {
   "cell_type": "markdown",
   "id": "e14e71ce",
   "metadata": {},
   "source": [
    "**예제 6-13** 제자리 연산과 제자리 연산이 아닌 연산의 실행 시점 성능 차이"
   ]
  },
  {
   "cell_type": "code",
   "execution_count": 7,
   "id": "8e5cdda0",
   "metadata": {},
   "outputs": [],
   "source": [
    "import numpy as np"
   ]
  },
  {
   "cell_type": "code",
   "execution_count": 8,
   "id": "cf47a0b6",
   "metadata": {},
   "outputs": [
    {
     "name": "stdout",
     "output_type": "stream",
     "text": [
      "4.07 µs ± 82.4 ns per loop (mean ± std. dev. of 7 runs, 100000 loops each)\n"
     ]
    }
   ],
   "source": [
    "%%timeit array1, array2 = np.random.random((2, 100, 100))\n",
    "... array1 = array1 + array2"
   ]
  },
  {
   "cell_type": "code",
   "execution_count": 9,
   "id": "d2fecffe",
   "metadata": {},
   "outputs": [
    {
     "name": "stdout",
     "output_type": "stream",
     "text": [
      "3.82 µs ± 50.8 ns per loop (mean ± std. dev. of 7 runs, 100000 loops each)\n"
     ]
    }
   ],
   "source": [
    "%%timeit array1, array2 = np.random.random((2, 100, 100))\n",
    "... array1 += array2"
   ]
  },
  {
   "cell_type": "code",
   "execution_count": 10,
   "id": "3ca6ab79",
   "metadata": {},
   "outputs": [
    {
     "name": "stdout",
     "output_type": "stream",
     "text": [
      "369 ns ± 3.35 ns per loop (mean ± std. dev. of 7 runs, 1000000 loops each)\n"
     ]
    }
   ],
   "source": [
    "%%timeit array1, array2 = np.random.random((2, 5, 5))\n",
    "... array1 = array1 + array2"
   ]
  },
  {
   "cell_type": "code",
   "execution_count": 11,
   "id": "aff07092",
   "metadata": {},
   "outputs": [
    {
     "name": "stdout",
     "output_type": "stream",
     "text": [
      "1.06 µs ± 2.76 ns per loop (mean ± std. dev. of 7 runs, 1000000 loops each)\n"
     ]
    }
   ],
   "source": [
    "%%timeit array1, array2 = np.random.random((2, 5, 5))\n",
    "... array1 += array2"
   ]
  },
  {
   "cell_type": "markdown",
   "id": "5ea3a7ad",
   "metadata": {},
   "source": [
    "- np.random.random((2, 100, 100)) 배열은 CPU 캐시에 들어가기에는 너무 크므로 할당과 캐시 미스가 적은 제자리 연산이 더 빠르다.\n",
    "- np.random.random((2, 5, 5)) 배열은 캐시에 들어맞으므로 제자리 연산이 아닌 연산이 빠르다.\n",
    "- %timeit 대신 %%timeit을 사용했음에 주목하자. %timeit은 실험 준비에 필요한 코드를 지정할 수 있게 해준다."
   ]
  },
  {
   "cell_type": "markdown",
   "id": "e6d02ae8",
   "metadata": {},
   "source": [
    "**예제 6-14** numpy 연산을 제자리 연산으로 변경"
   ]
  },
  {
   "cell_type": "code",
   "execution_count": 14,
   "id": "4153a3f4",
   "metadata": {},
   "outputs": [],
   "source": [
    "# 예제 6-9의 코드를 제자리 연산을 사용하도록 바꾸는 작업은 어렵지 않지만\n",
    "# 코드의 가독성이 약간 떨어지는 문제가 있다.\n",
    "\n",
    "def laplacian(grid, out):\n",
    "    np.copyto(out, grid)\n",
    "    out *= -4\n",
    "    out += np.roll(grid, +1, 0)\n",
    "    out += np.roll(grid, -1, 0)\n",
    "    out += np.roll(grid, +1, 0)\n",
    "    out += np.roll(grid, -1, 0)\n",
    "\n",
    "    \n",
    "def evolve(grid, dt, out, D=1):\n",
    "    laplacian(grid, out)\n",
    "    out *= D * dt\n",
    "    out += grid\n",
    "\n",
    "\n",
    "def run_experiment(num_iterations):\n",
    "    scratch = zeros(grid_shape)\n",
    "    grid = zeros(grid_shape)\n",
    "\n",
    "    block_low = int(grid_shape[0] * 0.4)\n",
    "    block_high = int(grid_shape[0] * 0.5)\n",
    "    grid[block_low:block_high, block_low:block_high] = 0.005\n",
    "\n",
    "    start = time.time()\n",
    "    for i in range(num_iterations):\n",
    "        evolve(grid, 0.1, scratch)     # evolve의 결과는 scratch 벡터에 저장되므로, grid와 scratch를 서로 바꿔치기 하여\n",
    "        grid, scratch = scratch, grid  # 다음 반복에서 grid에 갱신된 정보가 저장되도록 한다. 이 바꿔치기는 데이터를 서로\n",
    "    return time.time() - start        # 바꾸는게 아니라 데이터에 대한 참조만 바꾸므로 부담이 없다."
   ]
  },
  {
   "cell_type": "markdown",
   "id": "0b3c0c6c",
   "metadata": {},
   "source": [
    "**예제 6-15** numpy와 제자리 메모리 연산을 사용했을 때의 성능 측정 결과 (격자 크기: 640x640, 500회 반복)"
   ]
  },
  {
   "cell_type": "markdown",
   "id": "8e530317",
   "metadata": {},
   "source": [
    "<span style=\"font-family: monospace\">\n",
    "~# perf stat -e cycles,instructions,cache-references,cache-misses,branches,branch-misses,task-clock,faults,minor-faults,cs,migrations python3 diffusion_numpy_memory.py\n",
    "</span>"
   ]
  },
  {
   "cell_type": "code",
   "execution_count": null,
   "id": "bc2c3a7d",
   "metadata": {},
   "outputs": [],
   "source": [
    " Performance counter stats for 'python diffusion_numpy_memory.py':\n",
    "\n",
    "     6,880,906,446      cycles                    #    2.886 GHz                      \n",
    "     5,848,134,537      instructions              #    0.85  insn per cycle           \n",
    "     1,077,550,720      cache-references          #  452.000 M/sec                    \n",
    "       217,974,413      cache-misses              #   20.229 % of all cache refs      \n",
    "     1,028,769,315      branches                  #  431.538 M/sec                    \n",
    "         7,492,245      branch-misses             #    0.73% of all branches          \n",
    "       2383.962679      task-clock (msec)         #    1.373 CPUs utilized          \n",
    "            13,521      faults                    #    0.006 M/sec                  \n",
    "            13,521      minor-faults              #    0.006 M/sec                  \n",
    "               100      cs                        #    0.042 K/sec                  \n",
    "                 8      migrations                #    0.003 K/sec                  \n",
    "\n",
    "       1.736322099 seconds time elapsed"
   ]
  },
  {
   "cell_type": "markdown",
   "id": "50c97ca3",
   "metadata": {},
   "source": [
    "**예제 6-16** laplacian 함수가 시간을 과하게 소비함을 알려주는 라인 프로파일링 결과"
   ]
  },
  {
   "cell_type": "markdown",
   "id": "5029d0cd",
   "metadata": {},
   "source": [
    "<span style=\"font-family: monospace\">\n",
    "~# kernprof -l -v diffusion_numpy_memory.py\n",
    "</span>"
   ]
  },
  {
   "cell_type": "code",
   "execution_count": null,
   "id": "92215d34",
   "metadata": {},
   "outputs": [],
   "source": [
    "Wrote profile results to diffusion_numpy_memory.py.lprof\n",
    "Timer unit: 1e-06 s\n",
    "\n",
    "Total time: 2.02943 s\n",
    "File: diffusion_numpy_memory.py\n",
    "Function: evolve at line 24\n",
    "\n",
    "Line #      Hits         Time  Per Hit   % Time  Line Contents\n",
    "==============================================================\n",
    "    24                                           @profile\n",
    "    25                                           def evolve(grid, dt, out, D=1):\n",
    "    26       500    1719414.0   3438.8     84.7      laplacian(grid, out)\n",
    "    27       500     120996.0    242.0      6.0      out *= D * dt\n",
    "    28       500     189021.0    378.0      9.3      out += grid"
   ]
  },
  {
   "cell_type": "markdown",
   "id": "9eb2ed3b",
   "metadata": {},
   "source": [
    "laplacian 함수가 느린 데는 여러 가지 이유가 있지만, 주요 원인은 두 가지이다. 첫째, np.roll을 호출하면서 새로운 벡터를 할당한다. 또한 np.roll은 매우 범용적인 함수로, 특수한 경우를 처리하기 위한 코드를 많이 포함한다. 우리는 단순히 축을 따라 데이터를 시프트하면 되므로 이 함수를 다시 작성해서 불필요한 코드를 제거할 수 있다. "
   ]
  },
  {
   "cell_type": "code",
   "execution_count": null,
   "id": "d0f53416",
   "metadata": {},
   "outputs": [],
   "source": [
    " import time\n",
    "\n",
    "from numpy import add, copyto, multiply, zeros\n",
    "\n",
    "try:\n",
    "    profile\n",
    "except NameError:\n",
    "    profile = lambda x: x\n",
    "\n",
    "grid_shape = (640, 640)\n",
    "\n",
    "\n",
    "def roll_add(rollee, shift, axis, out):\n",
    "    \"\"\"\n",
    "    주어진 행렬 rollee에 대해서 다음 계산을 수행하여 결과를 out에 저장한다.\n",
    "    \n",
    "        >>> out += np.roll(rollee, shift, axis=axis)\n",
    "    \n",
    "    이 함수는 다음 가정하에 동작한다.\n",
    "        * rollee는 2차원 배열이다.\n",
    "        * shift는 +1 아니면 -1이다.\n",
    "        * axis는 0 아니면 1이다. (rollee가 2차원 배열이므로 이를 유츄할 수 있다.)\n",
    "        \n",
    "    위와 같은 가정하에, numpy에서 범용적인 목적으로 구현한 roll 함수에서 불필요한\n",
    "    부분을 회피하고 계산 과정을 함수 내부로 옮겨서 속도를 개선했다.\n",
    "    \"\"\"\n",
    "    if shift == 1 and axis == 0:\n",
    "        out[1:, :] += rollee[:-1, :]\n",
    "        out[0, :] += rollee[-1, :]\n",
    "    elif shift == -1 and axis == 0:\n",
    "        out[:-1, :] += rollee[1:, :]\n",
    "        out[-1, :] += rollee[0, :]\n",
    "    elif shift == 1 and axis == 1:\n",
    "        out[:, 1:] += rollee[:, :-1]\n",
    "        out[:, 0] += rollee[:, -1]\n",
    "    elif shift == -1 and axis == 1:\n",
    "        out[:, :-1] += rollee[:, 1:]\n",
    "        out[:, -1] += rollee[:, 0]\n",
    "\n",
    "\n",
    "def laplacian(grid, out):\n",
    "    copyto(out, grid)\n",
    "    multiply(out, -4.0, out)\n",
    "    roll_add(grid, +1, 0, out)\n",
    "    roll_add(grid, -1, 0, out)\n",
    "    roll_add(grid, +1, 1, out)\n",
    "    roll_add(grid, -1, 1, out)\n",
    "\n",
    "\n",
    "@profile\n",
    "def evolve(grid, dt, out, D=1):\n",
    "    laplacian(grid, out)\n",
    "    multiply(out, D * dt, out)\n",
    "    add(out, grid, out)\n",
    "\n",
    "\n",
    "def run_experiment(num_iterations):\n",
    "    scratch = zeros(grid_shape)\n",
    "    grid = zeros(grid_shape)\n",
    "\n",
    "    block_low = int(grid_shape[0] * 0.4)\n",
    "    block_high = int(grid_shape[0] * 0.5)\n",
    "    grid[block_low:block_high, block_low:block_high] = 0.005\n",
    "\n",
    "    start = time.time()\n",
    "    for i in range(num_iterations):\n",
    "        evolve(grid, 0.1, scratch)\n",
    "        grid, scratch = scratch, grid\n",
    "    return time.time() - start\n",
    "\n",
    "\n",
    "if __name__ == \"__main__\":\n",
    "    run_experiment(500)"
   ]
  },
  {
   "cell_type": "markdown",
   "id": "7d006677",
   "metadata": {},
   "source": [
    "**예제 6-18** numpy를 이용한 제자리 메모리 연산과 사용자 정의 laplacian 함수를 사용했을 때 성능 측정 결과 (격자 크기: 640x640, 500회 반복)"
   ]
  },
  {
   "cell_type": "markdown",
   "id": "79d6b316",
   "metadata": {},
   "source": [
    "<span style=\"font-family: monospace\">\n",
    "~# perf stat -e cycles,instructions,cache-references,cache-misses,branches,branch-misses,task-clock,faults,minor-faults,cs,migrations python3 diffusion_numpy_memory2.py\n",
    "</span>"
   ]
  },
  {
   "cell_type": "code",
   "execution_count": null,
   "id": "88a7eebf",
   "metadata": {},
   "outputs": [],
   "source": [
    " Performance counter stats for 'python diffusion_numpy_memory2.py':\n",
    "\n",
    "     5,971,464,515      cycles                    #    2.888 GHz                      \n",
    "     5,893,131,049      instructions              #    0.99  insn per cycle           \n",
    "     1,001,582,133      cache-references          #  484.398 M/sec                    \n",
    "        30,840,612      cache-misses              #    3.079 % of all cache refs      \n",
    "     1,038,649,694      branches                  #  502.325 M/sec                    \n",
    "         7,562,009      branch-misses             #    0.73% of all branches          \n",
    "       2067.685884      task-clock (msec)         #    1.456 CPUs utilized          \n",
    "            11,981      faults                    #    0.006 M/sec                  \n",
    "            11,981      minor-faults              #    0.006 M/sec                  \n",
    "                95      cs                        #    0.046 K/sec                  \n",
    "                 3      migrations                #    0.001 K/sec                  \n",
    "\n",
    "       1.419869071 seconds time elapsed"
   ]
  },
  {
   "cell_type": "markdown",
   "id": "aeefeb9b",
   "metadata": {},
   "source": [
    "예제 6-18과 6-14를 비교해보자. <br>\n",
    "<br>\n",
    "대부분 항목이 비슷함에도 22% 더 빨라진 것을 확인할 수 있다. 가장 큰 차이는 cahce-misses로, 7배 줄었다. 이런 변화는 CPU의 명령어 처리율(throughput)에도 영향을 주어서, 사이클 당 명령어 수가 0.85에서 0.99로 늘었다. 비슷하게 faults는 12.85% 줄었다. <br>\n",
    "<br>\n",
    "이런 결과는 행렬을 시프트할 때 numpy에 전적으로 의존하는 대신 제자리에서 데이터를 갱신하는 함수를 작성했기 때문이다. numpy는 배열을 바로 내보내지 않고, 경계 검사나 오류 처리 등 처리 작업에 필요한 다른 검사를 실행한 후 결과를 추가한다. 우리가 만든 함수는 한 번에 모든 작업을 처리하며 컴퓨터가 매번 캐시를 채워 넣을 필요가 없다."
   ]
  },
  {
   "cell_type": "markdown",
   "id": "f00948b0",
   "metadata": {},
   "source": [
    "## 6.5 numexpr: 제자리 연산을 더 빠르고 간편하게 쓰기"
   ]
  },
  {
   "cell_type": "markdown",
   "id": "178f1668",
   "metadata": {},
   "source": [
    "numpy의 벡터 연산 최적화는 한 번에 하나의 연산에만 적용할 수 있다는 단점이 있다. 즉, numpy 벡터로 A * B + C를 계산하면, 먼저 A * B 계산 결과를 임시 벡터에 저장한 다음에 C를 더한다. <br>\n",
    "<br>\n",
    "numexpr 모듈은 계산에 사용한 전체 벡터를 취합해서 캐시 미스와 임시 공간 사용을 최소화하는 아주 효율적인 코드로 컴파일한다. 멀티 코어를 활용할 수도 있고, CPU가 지원하는 특수한 명령어를 사용할 수도 있다. 여러 코어에 연산을 병렬화해주는 OpenMP도 지원한다. <br>\n",
    "<br>\n",
    "코드에서 numexpr을 사용하도록 바꾸려면, 문자열 표현으로 지역 변수를 참조하기만 하면 된다."
   ]
  },
  {
   "cell_type": "markdown",
   "id": "0f2c1384",
   "metadata": {},
   "source": [
    "**예제 6-19** numexpr을 사용해서 대규모 행렬 연산 최적화"
   ]
  },
  {
   "cell_type": "code",
   "execution_count": null,
   "id": "868356e9",
   "metadata": {},
   "outputs": [],
   "source": [
    "from numexpr import evaluate\n",
    "\n",
    "def evolve(grid, dt, out, D=1):\n",
    "    laplacian(grid, out)\n",
    "    ne.evaluate(\"out*D*dt+grid\", out=out)"
   ]
  },
  {
   "cell_type": "markdown",
   "id": "d5d50709",
   "metadata": {},
   "source": [
    "**예제 6-20** numpy의 제자리 메모리 연산, 사용자 정의 laplacian 함수, numexpr을 사용했을 때의 성능 측정 결과 (격자 크기: 640x640, 500회 반복)"
   ]
  },
  {
   "cell_type": "markdown",
   "id": "0cdb2afe",
   "metadata": {},
   "source": [
    "<span style=\"font-family: monospace\">\n",
    "~# perf stat -e cycles,instructions,cache-references,cache-misses,branches,branch-misses,task-clock,faults,minor-faults,cs,migrations python3 diffusion_numpy_memory2_numexpr.py\n",
    "</span>"
   ]
  },
  {
   "cell_type": "code",
   "execution_count": null,
   "id": "107515f4",
   "metadata": {},
   "outputs": [],
   "source": [
    " Performance counter stats for 'python diffusion_numpy_memory2_numexpr.py':\n",
    "\n",
    "     8,856,947,179      cycles                    #    2.872 GHz                      \n",
    "     9,354,357,453      instructions              #    1.06  insn per cycle           \n",
    "     1,077,518,384      cache-references          #  349.423 M/sec                    \n",
    "        59,407,830      cache-misses              #    5.513 % of all cache refs      \n",
    "     1,018,525,317      branches                  #  330.292 M/sec                    \n",
    "        11,941,430      branch-misses             #    1.17% of all branches          \n",
    "       3083.709890      task-clock (msec)         #    1.991 CPUs utilized          \n",
    "            15,820      faults                    #    0.005 M/sec                  \n",
    "            15,820      minor-faults              #    0.005 M/sec                  \n",
    "             8,671      cs                        #    0.003 M/sec                  \n",
    "             2,096      migrations                #    0.680 K/sec                  \n",
    "\n",
    "       1.548924090 seconds time elapsed"
   ]
  },
  {
   "cell_type": "markdown",
   "id": "373c83db",
   "metadata": {},
   "source": [
    "예제 6-18과 6-20을 비교해보면 numexpr을 사용하지 않았을 때가 오히려 더 빠르다. 계산에 필요한 모든 데이터가 캐시에 저장될 만큼 격자가 작다면 이런 일이 생긴다."
   ]
  },
  {
   "cell_type": "markdown",
   "id": "dc72d892",
   "metadata": {},
   "source": [
    "## 6.6 경고: '최적화' 검증(사이파이)"
   ]
  },
  {
   "cell_type": "markdown",
   "id": "c78bb781",
   "metadata": {},
   "source": [
    "이 장에서 중요한 내용은 최적화 작업을 하면서 프로파일링으로 코드가 어떻게 동작하는지 감을 잡고, 느린 부분을 개선할 수 있는 **해법**을 적용한 다음, 다시 프로파일해서 느린 부분을 제대로 개선했는지 확인하는 것이다."
   ]
  },
  {
   "cell_type": "markdown",
   "id": "c7bdd06b",
   "metadata": {},
   "source": [
    "**예제 6-21** scipy의 laplace 필터 사용"
   ]
  },
  {
   "cell_type": "code",
   "execution_count": null,
   "id": "5768de5e",
   "metadata": {},
   "outputs": [],
   "source": [
    "from scipy.ndimage.filters import laplace\n",
    "\n",
    "def laplacian(grid, out):\n",
    "    laplace(grid, out, mode=\"wrap\")"
   ]
  },
  {
   "cell_type": "markdown",
   "id": "2b856bee",
   "metadata": {},
   "source": [
    "위와 같이 코드를 수정하면, scipy에는 이미지 처리용 하위 모듈이 있으므로 분명 도움이 될 것이라고 기대할 수도 있다는데 (나는 기대 안했음. 애초에 scipy가 뭔지도 몰랐음.) 실제로는 그렇지 않다고 함."
   ]
  },
  {
   "cell_type": "markdown",
   "id": "eb70bb82",
   "metadata": {},
   "source": [
    "**예제 6-22** scipy의 laplace 함수를 사용한 확산 방정식의 성능 측정 결과 (격자 크기: 640x640, 500회 반복)"
   ]
  },
  {
   "cell_type": "markdown",
   "id": "fc4008ac",
   "metadata": {},
   "source": [
    "<span style=\"font-family: monospace\">\n",
    "~# perf stat -e cycles,instructions,cache-references,cache-misses,branches,branch-misses,task-clock,faults,minor-faults,cs,migrations python3 diffusion_scipy.py\n",
    "</span>"
   ]
  },
  {
   "cell_type": "code",
   "execution_count": null,
   "id": "40031e6d",
   "metadata": {},
   "outputs": [],
   "source": [
    " Performance counter stats for 'python diffusion_scipy.py':\n",
    "\n",
    "    10,051,801,725      cycles                    #    2.886 GHz                      \n",
    "    16,536,981,020      instructions              #    1.65  insn per cycle           \n",
    "     1,554,557,564      cache-references          #  446.405 M/sec                    \n",
    "       126,627,735      cache-misses              #    8.146 % of all cache refs      \n",
    "     2,673,416,633      branches                  #  767.696 M/sec                    \n",
    "         9,626,762      branch-misses             #    0.36% of all branches          \n",
    "       3482.391211      task-clock (msec)         #    1.228 CPUs utilized          \n",
    "            14,013      faults                    #    0.004 M/sec                  \n",
    "            14,013      minor-faults              #    0.004 M/sec                  \n",
    "                95      cs                        #    0.027 K/sec                  \n",
    "                 5      migrations                #    0.001 K/sec                  \n",
    "\n",
    "       2.835263796 seconds time elapsed"
   ]
  },
  {
   "cell_type": "markdown",
   "id": "20ce69c0",
   "metadata": {},
   "source": [
    " 예제 6-18이나 6-20과 비교해보자. instruction 지표가 가장 많이 차이나는데, scipy 코드는 경계 조건이 다양한 모든 종류의 입력을 처리할 수 있도록 작성되었으므로 이런 결과가 생겼다. 같은 이유로 branch 항목이 더 높은 것을 확인할 수 있다."
   ]
  },
  {
   "cell_type": "markdown",
   "id": "d69cca00",
   "metadata": {},
   "source": [
    "## 6.7 행렬 최적화에서 얻은 교훈"
   ]
  },
  {
   "cell_type": "markdown",
   "id": "4cefea50",
   "metadata": {},
   "source": [
    "**표 6-1** 격자 크기 별 evolve 함수(500회 반복) 실행 시간 비교 (단위: 초)"
   ]
  },
  {
   "cell_type": "markdown",
   "id": "c0f7e8fb",
   "metadata": {},
   "source": [
    "| 방법                                 | 256 x 256 | 512 x 512 | 1,024 x 1,024 | 2,048 x 2,048 | 4,096 x 4,096 |\n",
    "|:-------------------------------------|:----------|:----------|:--------------|:--------------|:--------------|\n",
    "| 파이썬                               | 2.40      | 10.43     | 41.75         | 168.82        | 1679.16       |\n",
    "| 파이썬 + 메모리                      | 2.26      | 9.76      | 38.85         | 157.25        | 632.76        |\n",
    "| numpy                                | 0.01      | 0.09      | 0.69          | 3.77          | 14.83         |\n",
    "| numpy + 메모리                       | 0.01      | 0.07      | 0.60          | 3.80          | 14.97         |\n",
    "| numpy + 메모리 + laplacian           | 0.01      | 0.05      | 0.48          | 1.86          | 7.50          |\n",
    "| numpy + 메모리 + laplacian + numexpr | 0.02      | 0.06      | 0.41          | 1.60          | 6.45          |\n",
    "| numpy + 메모리 + scipy               | 0.05      | 0.25      | 1.15          | 6.83          | 91.43         |"
   ]
  },
  {
   "cell_type": "markdown",
   "id": "b4da7881",
   "metadata": {},
   "source": [
    "초기화 과정에 필요한 관리 요소를 모두 고려해야 한다. 여기에는 메모리 할당, 설정 파일을 읽는 과정, 프로그램이 실행되는 동안 필요한 값을 미리 계산하는 과정이 모두 포함된다. <br>\n",
    "<br>\n",
    "그리고 이것은 다음의 두 가지 이유에서 중요하다. 첫째, 이런 초기화 작업을 한 번에 완료해서 전체 실행 횟수를 줄이고 나중에 불필요한 자원이 낭비되지 않도록 한다. 둘째, 프로그램의 흐름을 방해하지 않아야 한다. 캐시에 관련 데이터만 채워지게 하고 파이프라인을 효율적으로 유지할 수 있다."
   ]
  },
  {
   "cell_type": "markdown",
   "id": "6f39137e",
   "metadata": {},
   "source": [
    "## 6.8 팬더스"
   ]
  },
  {
   "cell_type": "markdown",
   "id": "846d4657",
   "metadata": {},
   "source": [
    "팬더스는 과학기술 파이썬 생태계에서 사실상 표준인 데이터 조작 도구로 표 형태의 데이터 처리에 사용한다."
   ]
  },
  {
   "cell_type": "markdown",
   "id": "989484ff",
   "metadata": {},
   "source": [
    "### 6.8.1 팬더스 내부 모델"
   ]
  },
  {
   "cell_type": "markdown",
   "id": "4c4e2869",
   "metadata": {},
   "source": [
    "DataFrame에 대한 연산은 한 열에 속한 모든 셀(또는 axis=1 인자 사용 시 한 행에 속한 모든 셀)에 적용된다. <br>\n",
    "<br>\n",
    "팬더스는 원래 numpy 데이터 타입을 사용했지만, 발전하는 과정에서 3가 논리의 '없는 데이터(NaN)' 동작을 인식하는 팬더스 자체 데이터타입이 늘어났다. 그래서 numpy의 int64(NaN을 인식하지 못한다)와 팬더스 Int64(내부적으로 정수와 NaN을 표현하는 Bit 마스크로 이뤄진 2열 데이터를 사용한다)를 구분해야한다. 참고로 numpy의 float64는 NaN을 인식한다. "
   ]
  },
  {
   "cell_type": "markdown",
   "id": "72c8987f",
   "metadata": {},
   "source": [
    "### 6.8.2 여러 데이터 행에 함수 적용하기"
   ]
  },
  {
   "cell_type": "markdown",
   "id": "f2accd1b",
   "metadata": {},
   "source": [
    "**일반 최소 제곱(OLS)**"
   ]
  },
  {
   "cell_type": "markdown",
   "id": "ce32eee6",
   "metadata": {},
   "source": [
    "데이터를 직선에 맞추는 방법. 주어진 데이터 집합에 대해 m * x + c 공식의 기울기와 절편을 계산한다."
   ]
  },
  {
   "cell_type": "markdown",
   "id": "869938a3",
   "metadata": {},
   "source": [
    "**예제 6-23** 예제 데이터"
   ]
  },
  {
   "cell_type": "markdown",
   "id": "a515a021",
   "metadata": {},
   "source": [
    "10만 행으로 이뤄진 데이터를 생성한다. 각 행은 인공적인 고객을 나타내며, 행마다 열이 14개 있다. 각 열은 '매일 휴대폰을 사용한 시간'을 나타내는 연속적인 변수이다. <br>\n",
    "<br>\n",
    "푸아송 분포(lambda==60, 단위는 분)를 그리고, 60으로 나눠서 연속적인 변수를 얻어 시간을 시뮬레이션한다."
   ]
  },
  {
   "cell_type": "markdown",
   "id": "9f57d9df",
   "metadata": {},
   "source": [
    "**어떤 OLS 구현을 사용해야 할까?**"
   ]
  },
  {
   "cell_type": "markdown",
   "id": "053f01c8",
   "metadata": {},
   "source": [
    "**예제 6-24** OLS를 넘파이와 사이킷런으로 풀기"
   ]
  },
  {
   "cell_type": "code",
   "execution_count": null,
   "id": "cf3dee9b",
   "metadata": {},
   "outputs": [],
   "source": [
    "import numpy as np\n",
    "from sklearn.linear_model import LinearRegression\n",
    "\n",
    "def ols_sklearn(row):\n",
    "    \"\"\"사이킷런의 LinearRegression로 OLS 풀기\"\"\"\n",
    "    est = LinearRegression() \n",
    "    X = np.arange(row.shape[0]).reshape(-1, 1) # shape (14, 1)\n",
    "    # LinearRegression 내에서 절편이 만들어진다\n",
    "    est.fit(X, row.values) \n",
    "    m = est.coef_[0] # c가 est.intercept_ 이다\n",
    "    return m\n",
    "\n",
    "def ols_lstsq(row):\n",
    "    \"\"\"numpy.linalg.lstsq로 OLS 풀기\"\"\"\n",
    "    # build X values for [0, 13]\n",
    "    X = np.arange(row.shape[0]) # shape (14,)\n",
    "    ones = np.ones(row.shape[0]) # 절편을 만들려 사용한 상수\n",
    "    A = np.vstack((X, ones)).T # shape(14, 2)\n",
    "    # lstsq는 계수를 반환하며, 첫번째 계수는 절편이고 \n",
    "    # 그 이후는 리지듀얼과 다르요소들이다\n",
    "    m, c = np.linalg.lstsq(A, row.values, rcond=-1)[0] \n",
    "    return m\n",
    "\n",
    "def ols_lstsq_raw(row):\n",
    "    \"\"\"row가 numpy 배열 (Series가 아님)인 `ols_lstsq` 변종\"\"\"\n",
    "    X = np.arange(row.shape[0])\n",
    "    ones = np.ones(row.shape[0])\n",
    "    A = np.vstack((X, ones)).T\n",
    "    m, c = np.linalg.lstsq(A, row, rcond=-1)[0] \n",
    "    return m"
   ]
  },
  {
   "cell_type": "markdown",
   "id": "65ef1541",
   "metadata": {},
   "source": [
    "**예제 6-25** 사이킷런의 LinearRegression.fit 호출 상세 분석"
   ]
  },
  {
   "cell_type": "code",
   "execution_count": null,
   "id": "5bd1d95c",
   "metadata": {},
   "outputs": [],
   "source": [
    "...\n",
    "lp = LineProfiler(est.fit)\n",
    "print(\"Run on a single row\")\n",
    "lp.run(\"est.fit(X, row.values)\")\n",
    "lp.print_stats()\n",
    "\n",
    "Line #      Hits         Time  Per Hit   % Time  Line Contents\n",
    "==============================================================\n",
    "   491                                               def fit(self, X, y, sample_weight=None):\n",
    "...\n",
    "   516         1         20.0     20.0      0.2          accept_sparse = False if self.positive else ['csr', 'csc', 'coo']\n",
    "   517                                           \n",
    "   518         2       3594.0   1797.0     40.5          X, y = self._validate_data(X, y, accept_sparse=accept_sparse,\n",
    "   519         1         12.0     12.0      0.1                                     y_numeric=True, multi_output=True)\n",
    "   520                                           \n",
    "   521         1         20.0     20.0      0.2          if sample_weight is not None:\n",
    "   522                                                       sample_weight = _check_sample_weight(sample_weight, X,\n",
    "   523                                                                                            dtype=X.dtype)\n",
    "   524                                           \n",
    "   525         2       2486.0   1243.0     28.0          X, y, X_offset, y_offset, X_scale = self._preprocess_data(\n",
    "   526         1         14.0     14.0      0.2              X, y, fit_intercept=self.fit_intercept, normalize=self.normalize,\n",
    "   527         1         14.0     14.0      0.2              copy=self.copy_X, sample_weight=sample_weight,\n",
    "   528         1         11.0     11.0      0.1              return_mean=True)\n",
    "...\n",
    "   567                                                   else:\n",
    "   568         1         22.0     22.0      0.2              self.coef_, self._residues, self.rank_, self.singular_ = \\\n",
    "   569         1       2236.0   2236.0     25.2                  linalg.lstsq(X, y)\n",
    "   570         1         20.0     20.0      0.2              self.coef_ = self.coef_.T\n",
    "   571                                           \n",
    "   572         1         14.0     14.0      0.2          if y.ndim == 1:\n",
    "   573         1        112.0    112.0      1.3              self.coef_ = np.ravel(self.coef_)\n",
    "   574         1        201.0    201.0      2.3          self._set_intercept(X_offset, y_offset, X_scale)\n",
    "   575         1         12.0     12.0      0.1          return self\n"
   ]
  },
  {
   "cell_type": "markdown",
   "id": "31317778",
   "metadata": {},
   "source": [
    "**행 데이터에 lstsq 적용하기**"
   ]
  },
  {
   "cell_type": "markdown",
   "id": "9d39d6b5",
   "metadata": {},
   "source": [
    "**예제 6-26** 가장 나쁜 구현: iloc를 사용해 한번에 한 행씩 가져와서 계산하기"
   ]
  },
  {
   "cell_type": "code",
   "execution_count": null,
   "id": "4da20994",
   "metadata": {},
   "outputs": [],
   "source": [
    "ms = []\n",
    "for row_idx in range(df.shape[0]):\n",
    "    row = df.iloc[row_idx]\n",
    "    m = ols_lstsq(row)\n",
    "    ms.append(m)\n",
    "results = pd.Series(ms)"
   ]
  },
  {
   "cell_type": "markdown",
   "id": "487cf99c",
   "metadata": {},
   "source": [
    "iloc은 새 row_idx에서 행을 가져오려고 아주 많은 작업을 수행한다. 그 후 가져온 행을 새 Series 객체로 변환해 반환하고, 이를 row에 대입한다."
   ]
  },
  {
   "cell_type": "markdown",
   "id": "aca8713d",
   "metadata": {},
   "source": [
    "**예제 6-27** iterrows를 사용해 더 파이썬답고 효율적으로 행 연산하기"
   ]
  },
  {
   "cell_type": "code",
   "execution_count": null,
   "id": "378fa298",
   "metadata": {},
   "outputs": [],
   "source": [
    "ms = []\n",
    "for row_idx, row in df.iterrows():\n",
    "    m = ols_lstsq(row)\n",
    "    ms.append(m)\n",
    "results = pd.Series(ms)"
   ]
  },
  {
   "cell_type": "markdown",
   "id": "9b1604c4",
   "metadata": {},
   "source": [
    "5장에서 이터레이션하는 감성이다. 여전히 반복마다 새로운 Series 객체를 만들어서 row에 저장한다."
   ]
  },
  {
   "cell_type": "markdown",
   "id": "f46e138e",
   "metadata": {},
   "source": [
    "**예제 6-28** apply를 사용해 전형적인 팬더스 함수 적용하기"
   ]
  },
  {
   "cell_type": "code",
   "execution_count": null,
   "id": "b8d93875",
   "metadata": {},
   "outputs": [],
   "source": [
    "ms = df.apply(ols_lstsq, axis=1)\n",
    "results = pd.Series(ms)"
   ]
  },
  {
   "cell_type": "markdown",
   "id": "783b6105",
   "metadata": {},
   "source": [
    "apply는 새로운 파이썬 중간 참조를 만들지 않고 ols_lstsq를 데이터 행에 직접 넘긴다. 여기서도 내부에서는 행마다 새 Series가 만들어진다."
   ]
  },
  {
   "cell_type": "markdown",
   "id": "fe76b028",
   "metadata": {},
   "source": [
    "**예제 6-29** raw=True를 사용해 중간 Series 생성 방지하기"
   ]
  },
  {
   "cell_type": "code",
   "execution_count": null,
   "id": "611e0d02",
   "metadata": {},
   "outputs": [],
   "source": [
    "ms = df.apply(ols_lstsq_raw, axis=1, raw=True)\n",
    "results = pd.Series(ms)"
   ]
  },
  {
   "cell_type": "markdown",
   "id": "103616d8",
   "metadata": {},
   "source": [
    "apply를 사용할 때 raw=True를 인자로 사용하면 중간 Series 객체가 만들어지지 않는다. Series 객체가 없으므로 ols_lstsq_raw를 사용해야 한다."
   ]
  },
  {
   "cell_type": "markdown",
   "id": "0c3855ba",
   "metadata": {},
   "source": [
    "**표 6-3** lstsq와 다양한 팬더스 행 단위 접근 방법을 사용한 경우의 실행 시간 비교"
   ]
  },
  {
   "cell_type": "markdown",
   "id": "a6768de0",
   "metadata": {},
   "source": [
    "| 방법           | 시간(초) |\n",
    "|:---------------|:---------|\n",
    "| iloc           | 18.6     |\n",
    "| iterrows       | 12.4     |\n",
    "| apply          | 6.8      |\n",
    "| apply raw=True | 5.3      |"
   ]
  },
  {
   "cell_type": "markdown",
   "id": "9237dbdf",
   "metadata": {},
   "source": [
    "### 6.8.3 부분 결과를 이어 붙이지 않고 DataFrame과 Series 만들기"
   ]
  },
  {
   "cell_type": "markdown",
   "id": "a0d96440",
   "metadata": {},
   "source": [
    "**예제 6-30** 각 결과를 이어 붙이면 부가비용이 많이 든다. (이렇게 하지 말라!)"
   ]
  },
  {
   "cell_type": "code",
   "execution_count": null,
   "id": "e04f3529",
   "metadata": {},
   "outputs": [],
   "source": [
    "results = None\n",
    "for row_idx in range(df.shape[0]):\n",
    "    row = df.iloc[row_idx]\n",
    "    m = ols_lstsq(row)\n",
    "    if results is None:\n",
    "        results = pd.Series([m])\n",
    "    else:\n",
    "        #results = results.append(pd.Series([m]))  # equivalent to concat\n",
    "        results = pd.concat((results, pd.Series([m])))"
   ]
  },
  {
   "cell_type": "markdown",
   "id": "e10847a5",
   "metadata": {},
   "source": [
    "### 6.8.4 어떤 일을 하는 또 다른(게다가 더 빠르) 방법"
   ]
  },
  {
   "cell_type": "markdown",
   "id": "2a4e854b",
   "metadata": {},
   "source": [
    "**예제 6-31** 문자열 처리에서 str Series 연산과 apply의 비교"
   ]
  },
  {
   "cell_type": "code",
   "execution_count": null,
   "id": "1ef73540",
   "metadata": {},
   "outputs": [],
   "source": [
    "df['0_as_str'] = df[0].apply(lambda v: str(v))\n",
    "\n",
    "def find_9(s): \n",
    "    \"\"\"'9'를 못 찾으면 -1, 그렇지 않으면 발견한 위치(위치 >= 0)를 돌려준다\"\"\"\n",
    "    return s.split('.')[1].find('9')\n",
    "\n",
    "#%timeit df['0_as_str'].str.split('.', expand=True)[1].str.find('9')\n",
    "#183 ms ± 2.58 ms per loop (mean ± std. dev. of 7 runs, 10 loops each)\n",
    "#%timeit df['0_as_str'].apply(find_9)\n",
    "#51 ms ± 987 µs per loop (mean ± std. dev. of 7 runs, 10 loops each)"
   ]
  }
 ],
 "metadata": {
  "kernelspec": {
   "display_name": "Python 3",
   "language": "python",
   "name": "python3"
  },
  "language_info": {
   "codemirror_mode": {
    "name": "ipython",
    "version": 3
   },
   "file_extension": ".py",
   "mimetype": "text/x-python",
   "name": "python",
   "nbconvert_exporter": "python",
   "pygments_lexer": "ipython3",
   "version": "3.8.8"
  }
 },
 "nbformat": 4,
 "nbformat_minor": 5
}
