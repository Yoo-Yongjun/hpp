{
 "cells": [
  {
   "cell_type": "markdown",
   "id": "94e7cbd1",
   "metadata": {},
   "source": [
    "# Chapter 5. 이터레이터와 제너레이터"
   ]
  },
  {
   "cell_type": "code",
   "execution_count": 1,
   "id": "812564ff",
   "metadata": {},
   "outputs": [],
   "source": [
    "def fibonacci_list(num_items):\n",
    "    numbers = []\n",
    "    a, b = 0, 1\n",
    "    while len(numbers) < num_items:\n",
    "        numbers.append(a)\n",
    "        a, b = b, a + b\n",
    "    return numbers                   # return을 만나면 함수는 종료된다.\n",
    "\n",
    "\n",
    "def fibonacci_gen(num_items):\n",
    "    a, b = 0, 1\n",
    "    while num_items:\n",
    "        yield a                      # yield는 a값을 반환하고, 대기상태로 바뀐 다음 함수 밖의 코드를 실행하다가\n",
    "        a, b = b, a + b              # 다음 값 요청이 들어오면 이전 상태를 유지한 채로 실행을 재개하여 새로운 값을 반환한다.\n",
    "        num_items -= 1"
   ]
  },
  {
   "cell_type": "code",
   "execution_count": 2,
   "id": "599d47e7",
   "metadata": {},
   "outputs": [],
   "source": [
    "def test_fibonacci_list():\n",
    "    for i in fibonacci_list(100_000):\n",
    "        pass\n",
    "    \n",
    "\n",
    "def test_fibonacci_gen():\n",
    "    for i in fibonacci_gen(100_000):\n",
    "        pass"
   ]
  },
  {
   "cell_type": "code",
   "execution_count": 4,
   "id": "6a2bfed3",
   "metadata": {},
   "outputs": [
    {
     "name": "stdout",
     "output_type": "stream",
     "text": [
      "472 ms ± 22.6 ms per loop (mean ± std. dev. of 7 runs, 1 loop each)\n"
     ]
    }
   ],
   "source": [
    "%timeit test_fibonacci_list()"
   ]
  },
  {
   "cell_type": "code",
   "execution_count": 6,
   "id": "6b774e78",
   "metadata": {},
   "outputs": [
    {
     "name": "stdout",
     "output_type": "stream",
     "text": [
      "peak memory: 472.06 MiB, increment: 391.25 MiB\n"
     ]
    }
   ],
   "source": [
    "%load_ext memory_profiler\n",
    "%memit test_fibonacci_list()"
   ]
  },
  {
   "cell_type": "code",
   "execution_count": 7,
   "id": "59755729",
   "metadata": {},
   "outputs": [
    {
     "name": "stdout",
     "output_type": "stream",
     "text": [
      "138 ms ± 22.9 ms per loop (mean ± std. dev. of 7 runs, 10 loops each)\n"
     ]
    }
   ],
   "source": [
    "%timeit test_fibonacci_gen()"
   ]
  },
  {
   "cell_type": "code",
   "execution_count": 8,
   "id": "2dbaace1",
   "metadata": {},
   "outputs": [
    {
     "name": "stdout",
     "output_type": "stream",
     "text": [
      "The memory_profiler extension is already loaded. To reload it, use:\n",
      "  %reload_ext memory_profiler\n",
      "peak memory: 81.78 MiB, increment: 0.00 MiB\n"
     ]
    }
   ],
   "source": [
    "%load_ext memory_profiler\n",
    "%memit test_fibonacci_gen()"
   ]
  },
  {
   "cell_type": "markdown",
   "id": "8d92c012",
   "metadata": {},
   "source": [
    "**예제 5-1** 파이썬 for 루프 재구성하기"
   ]
  },
  {
   "cell_type": "code",
   "execution_count": null,
   "id": "f724836c",
   "metadata": {},
   "outputs": [],
   "source": [
    "# 다음 파이썬 루프는\n",
    "for i in object:                 # object에 fibonacci_list를 사용하면 리스트를 먼저 만든 뒤 이터레이터를 만든다.\n",
    "    do_work(i)                   # fibonacci_gen은 이미 그 자체로 이터레이터이다. \n",
    "\n",
    "# 아래 코드와 같다.\n",
    "object_iterator = iter(object)\n",
    "while True:\n",
    "    try:\n",
    "        i = next(object_iterator)\n",
    "    except StopIteration:\n",
    "        break\n",
    "    else:\n",
    "        do_work(i)"
   ]
  },
  {
   "cell_type": "code",
   "execution_count": 9,
   "id": "2eff9460",
   "metadata": {},
   "outputs": [
    {
     "name": "stdout",
     "output_type": "stream",
     "text": [
      "peak memory: 193.13 MiB, increment: 111.48 MiB\n"
     ]
    }
   ],
   "source": [
    "%memit len([n for n in fibonacci_gen(100_000) if n % 3 == 0])\n",
    "# 피보나치 수열을 만들려고 여전히 fibonacci_gen을 제너레이터로 사용하지만,\n",
    "# 3으로 나뉘는 값을 배열에 저장하고 해당 배열에서 길이만 알아낸 다음에 데이터를 버린다.\n",
    "# 리스트 내포는 [<값> for <항목> in <배열> if <조건>] 문법을 사용하고, 모든 <값>이 있는 리스트를 생성한다."
   ]
  },
  {
   "cell_type": "code",
   "execution_count": 11,
   "id": "18e1c3b8",
   "metadata": {},
   "outputs": [
    {
     "name": "stdout",
     "output_type": "stream",
     "text": [
      "peak memory: 81.80 MiB, increment: 0.31 MiB\n"
     ]
    }
   ],
   "source": [
    "%memit sum(1 for n in fibonacci_gen(100_000) if n % 3 == 0)\n",
    "# 제너레이터에는 length 속성이 없으므로 위와 같이 코드를 최적화할 수 있다.\n",
    "# 제너레이터 내포는 (<값> for <항목> in <배열> if <조건>) 문법을 사용하고, <값>을 생성하는 제너레이터를 만든다."
   ]
  },
  {
   "cell_type": "markdown",
   "id": "00ca876e",
   "metadata": {},
   "source": [
    "## 5.1 이터레이터로 무한급수 표현하기"
   ]
  },
  {
   "cell_type": "code",
   "execution_count": 12,
   "id": "c3f047b6",
   "metadata": {},
   "outputs": [],
   "source": [
    "def fibonacci():\n",
    "    i, j = 0, 1\n",
    "    while True:\n",
    "        yield j\n",
    "        i, j = j, i + j"
   ]
  },
  {
   "cell_type": "code",
   "execution_count": null,
   "id": "d9609628",
   "metadata": {},
   "outputs": [],
   "source": [
    "def fibonacci_navie():\n",
    "    i, j = 0, 1\n",
    "    count = 0\n",
    "    while j <= 5000:\n",
    "        if j % 2:\n",
    "            count += 1\n",
    "        i, j = j, i + j\n",
    "    return count\n",
    "\n",
    "\n",
    "def fibonacci_transform():\n",
    "    count = 0\n",
    "    for f in fibonacci():\n",
    "        if f > 5000:\n",
    "            break\n",
    "        if f % 2:\n",
    "            count += 1\n",
    "    return count\n",
    "\n",
    "from itertools import takewhile\n",
    "def fibonacci_succinct():\n",
    "    first_5000 = takewhile(lambda x: x <= 5000, fibonacci())\n",
    "    return sum(1 for x in first_5000 if x % 2)"
   ]
  },
  {
   "cell_type": "markdown",
   "id": "a4b39a4a",
   "metadata": {},
   "source": [
    "위의 방법은 모두 속도와 메모리 사용량이 비슷하다. 하지만 fibonacci_transform 함수가 몇 가지 면에서 유리하다. <br>\n",
    "<br>\n",
    "첫째, fibonacci_succinct보다 더 자세히 풀어썼으므로 다른 개발자가 디버깅하거나 이해하기 쉽다. itertools를 사용할 때는 조심해야 한다. <br>\n",
    "<br>\n",
    "fibonacci_ naive는 한 번에 여러 작업을 하므로 실제 어떤 계산을 수행하는지 알아보기 힘들다. 반면, 제너레이터 함수는 다른 계산의 영향을 받지 않으면서 피보나치 수열을 순회한다는 사실을 쉽게 알 수 있다. <br>\n",
    "<br>\n",
    "fibonacci_transform 함수가 더 일반화하기 쉽다. <br>\n",
    "<br>\n",
    "fibonacci_transform과 fibonacci_succinct의 또 다른 장점은 계산 과정을 데이터의 생성과 변형, 두 단계로 수분해서 생각하도록 해준다는 점이다. fibonacci 함수가 데이터를 생성하면 fibonacci_transfor 함수가 이를 변경한다."
   ]
  },
  {
   "cell_type": "markdown",
   "id": "1e1e44ba",
   "metadata": {},
   "source": [
    "## 5.2 제너레이터의 지연 계산"
   ]
  },
  {
   "cell_type": "markdown",
   "id": "571424fd",
   "metadata": {},
   "source": [
    "현재의 값만 필요한 경우에 제너레이터가 메모리 사용 측면에서 유리하다. 제너레이터를 사용한 피보나치 수열 계산에서도 현잿값만 사용할 뿐, 수열의 다른 값을 참조할 수는 없다. 이런 특징 때문에 가끔 제너레이터를 사용하기 어려운데, 이럴 때 표준 라이브러리인 itertools가 도움이 된다. 대표적으로 다음과 같은 함수들을 제공한다."
   ]
  },
  {
   "cell_type": "markdown",
   "id": "f6ca96e8",
   "metadata": {},
   "source": [
    "- islice: 제너레이터에 대한 슬라이싱 기능을 제공한다.\n",
    "- chain: 여러 제너레이터를 연결할 수 있다.\n",
    "- takewhile: 제너레이터 종료 조건을 추가할 수 있다.\n",
    "- cycle: 유한한 제너레이터를 계속 반복하여 무한 제너레이터로 동작하도록 한다."
   ]
  },
  {
   "cell_type": "markdown",
   "id": "b7d4f0e3",
   "metadata": {},
   "source": [
    "**예제 5-2** 필요한 때만 데이터 읽기"
   ]
  },
  {
   "cell_type": "code",
   "execution_count": null,
   "id": "98f49987",
   "metadata": {},
   "outputs": [],
   "source": [
    "from random import normalvariate, randint\n",
    "from itertools import count\n",
    "from datetime import datetime\n",
    "\n",
    "def read_data(filename):\n",
    "    with open(filename) as fd:\n",
    "        for line in fd:\n",
    "            data = line.strip().split(\",\")\n",
    "            timestamp, value = map(int, data)\n",
    "            yield datetime.fromtimestamp(timestamp), value\n",
    "\n",
    "\n",
    "def read_fake_data(filename):\n",
    "    for timestamp in count():\n",
    "        #  We insert an anomalous data point approximately once a week\n",
    "        if randint(0, 7 * 60 * 60 * 24 - 1) == 1:\n",
    "            value = 100\n",
    "        else:\n",
    "            value = normalvariate(0, 1)\n",
    "        yield datetime.fromtimestamp(timestamp), value"
   ]
  },
  {
   "cell_type": "markdown",
   "id": "6d3cb30f",
   "metadata": {},
   "source": [
    "**예제 5-3** 데이터 그룹 만들기"
   ]
  },
  {
   "cell_type": "code",
   "execution_count": null,
   "id": "e9531965",
   "metadata": {},
   "outputs": [],
   "source": [
    "for itertools import groupby\n",
    "\n",
    "def groupby_day(iterable):\n",
    "    key = lambda row: row[0].day\n",
    "    for day, data_group in groupby(iterable, key):\n",
    "        yield list(data_group)"
   ]
  },
  {
   "cell_type": "markdown",
   "id": "81c2c45b",
   "metadata": {},
   "source": [
    "**예제 5-4** 제너레이터 기반의 특이점 찾기"
   ]
  },
  {
   "cell_type": "code",
   "execution_count": null,
   "id": "5b5814f2",
   "metadata": {},
   "outputs": [],
   "source": [
    "from scipy.stats import normaltest\n",
    "for itertools import filterfalse\n",
    "\n",
    "def is_normal(data, threshold=1e-3):\n",
    "    _, values = zip(*data)\n",
    "    k2, p_value = normaltest(values)\n",
    "    if p_value < threshold:\n",
    "        return False\n",
    "    return True\n",
    "\n",
    "\n",
    "def filter_anomalous_groups(data):\n",
    "    yield from filterfalse(is_normal, data)"
   ]
  },
  {
   "cell_type": "markdown",
   "id": "08c66b35",
   "metadata": {},
   "source": [
    "**예제 5-5** 모두 함께 연결하기"
   ]
  },
  {
   "cell_type": "code",
   "execution_count": null,
   "id": "5be73f1f",
   "metadata": {},
   "outputs": [],
   "source": [
    "for itertools import islice\n",
    "\n",
    "def filter_anomalous_data(data):\n",
    "    data_group = groupby_day(data)\n",
    "    yield from filter_anomalous_groups(data_group)\n",
    "\n",
    "data = read_fake_data(\"fake_filename\")\n",
    "anomaly_generator = filter_anomalous_data(data)\n",
    "first_five_anomalies = islice(anomaly_generator, 5)\n",
    "\n",
    "for data_anomaly in first_five_anomalies:\n",
    "    start_date = data_anomaly[0][0]\n",
    "    end_date = data_anomaly[-1][0]\n",
    "    print(f\"Anomaly from {start_date} - {end_date}\")"
   ]
  },
  {
   "cell_type": "markdown",
   "id": "e0e1b973",
   "metadata": {},
   "source": [
    "(뭔 말인지는 알겠는데... 내가 이걸 쓸 수 있을까...? help!!)"
   ]
  }
 ],
 "metadata": {
  "kernelspec": {
   "display_name": "Python 3",
   "language": "python",
   "name": "python3"
  },
  "language_info": {
   "codemirror_mode": {
    "name": "ipython",
    "version": 3
   },
   "file_extension": ".py",
   "mimetype": "text/x-python",
   "name": "python",
   "nbconvert_exporter": "python",
   "pygments_lexer": "ipython3",
   "version": "3.8.8"
  }
 },
 "nbformat": 4,
 "nbformat_minor": 5
}
