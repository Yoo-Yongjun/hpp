{
 "cells": [
  {
   "cell_type": "markdown",
   "id": "5e434f93",
   "metadata": {},
   "source": [
    "# Chapter 4. 사전과 셋"
   ]
  },
  {
   "cell_type": "markdown",
   "id": "9d980a3f",
   "metadata": {},
   "source": [
    "**예제 4-1** 리스트를 이용한 전화번호 검색"
   ]
  },
  {
   "cell_type": "code",
   "execution_count": 10,
   "id": "ab9c493e",
   "metadata": {},
   "outputs": [
    {
     "name": "stdout",
     "output_type": "stream",
     "text": [
      "John Doe's phone number is 555-555-5555\n",
      "174 ns ± 7.52 ns per loop (mean ± std. dev. of 7 runs, 10000000 loops each)\n"
     ]
    }
   ],
   "source": [
    "def find_phonenumber(phonebook, name):\n",
    "    for n, p in phonebook:\n",
    "        if n == name:\n",
    "            return p\n",
    "    return None\n",
    "\n",
    "phonebook = [\n",
    "    (\"John Doe\", \"555-555-5555\"),\n",
    "    (\"Albert Einstein\", \"212-555-5555\"),\n",
    "]\n",
    "print(f\"John Doe's phone number is {find_phonenumber(phonebook, 'John Doe')}\")\n",
    "%timeit find_phonenumber(phonebook, 'John Doe')"
   ]
  },
  {
   "cell_type": "markdown",
   "id": "31a08cf3",
   "metadata": {},
   "source": [
    "**예제 4-2** 사전을 이용한 전화번호 검색"
   ]
  },
  {
   "cell_type": "code",
   "execution_count": 13,
   "id": "b29e15a7",
   "metadata": {},
   "outputs": [
    {
     "name": "stdout",
     "output_type": "stream",
     "text": [
      "John Doe's phone number is 555-555-5555\n",
      "47.8 ns ± 1.46 ns per loop (mean ± std. dev. of 7 runs, 10000000 loops each)\n"
     ]
    }
   ],
   "source": [
    "phonebook = {\n",
    "    \"John Doe\": \"555-555-5555\",\n",
    "    \"Albert Einstein\": \"212-555-5555\",\n",
    "}\n",
    "print(f\"John Doe's phone number is {phonebook['John Doe']}\")\n",
    "%timeit phonebook['John Doe']"
   ]
  },
  {
   "cell_type": "markdown",
   "id": "6d6be0e4",
   "metadata": {},
   "source": [
    "**예제 4-3** 리스트와 셋에서 유일한 이름 찾기"
   ]
  },
  {
   "cell_type": "code",
   "execution_count": 14,
   "id": "ee62b0fc",
   "metadata": {},
   "outputs": [
    {
     "name": "stdout",
     "output_type": "stream",
     "text": [
      "Number of unique names from set method: 2\n",
      "Number of unique names from list method: 2\n",
      "Finding unique names in a phonebook of length 1000 using lists took: 1.827554e-02 seconds\n",
      "Finding unique names in a phonebook of length 1000 using sets took: 2.616760e-04 seconds\n"
     ]
    }
   ],
   "source": [
    "import random\n",
    "import string\n",
    "import timeit\n",
    "\n",
    "\n",
    "def list_unique_names(phonebook):\n",
    "    unique_names = []\n",
    "    for name, phonenumber in phonebook:\n",
    "        first_name, last_name = name.split(\" \", 1)\n",
    "        for unique in unique_names:\n",
    "            if unique == first_name:\n",
    "                break\n",
    "        else:\n",
    "            unique_names.append(first_name)\n",
    "    return len(unique_names)\n",
    "\n",
    "\n",
    "def set_unique_names(phonebook):\n",
    "    unique_names = set()\n",
    "    for name, phonenumber in phonebook:\n",
    "        first_name, last_name = name.split(\" \", 1)\n",
    "        unique_names.add(first_name)\n",
    "    return len(unique_names)\n",
    "\n",
    "\n",
    "def random_name():\n",
    "    first_name = \"\".join(random.sample(string.ascii_letters, 8))\n",
    "    last_name = \"\".join(random.sample(string.ascii_letters, 8))\n",
    "    return \"{} {}\".format(first_name, last_name)\n",
    "\n",
    "\n",
    "if __name__ == \"__main__\":\n",
    "    phonebook = [(\"John Doe\", \"555-555-5555\"), (\"Albert Einstein\", \"212-555-5555\")]\n",
    "\n",
    "    print(\"Number of unique names from set method:\", set_unique_names(phonebook))\n",
    "    print(\"Number of unique names from list method:\", list_unique_names(phonebook))\n",
    "\n",
    "    setup = (\n",
    "        \"from __main__ import (large_phonebook, set_unique_names, list_unique_names)\"\n",
    "    )\n",
    "    iterations = 50\n",
    "    large_phonebook = [(random_name(), \"555-555-5555\") for i in range(1000)]\n",
    "\n",
    "    t = timeit.timeit(\n",
    "        stmt=\"list_unique_names(large_phonebook)\", setup=setup, number=iterations\n",
    "    )\n",
    "    print(\n",
    "        f\"Finding unique names in a phonebook of length {len(large_phonebook)} \"\n",
    "        f\"using lists took: {t / iterations:2e} seconds\"\n",
    "    )\n",
    "\n",
    "    t = timeit.timeit(\n",
    "        stmt=\"set_unique_names(large_phonebook)\", setup=setup, number=iterations\n",
    "    )\n",
    "    print(\n",
    "        f\"Finding unique names in a phonebook of length {len(large_phonebook)} \"\n",
    "        f\"using sets took: {t / iterations:2e} seconds\"\n",
    "    )"
   ]
  },
  {
   "cell_type": "markdown",
   "id": "5956792b",
   "metadata": {},
   "source": [
    "## 4.1 사전과 셋의 동작원리"
   ]
  },
  {
   "cell_type": "markdown",
   "id": "e4b54170",
   "metadata": {},
   "source": [
    "사전과 셋은 모두 해시 테이블을 사용해서 시간 복잡도가 O(1)이다."
   ]
  },
  {
   "cell_type": "markdown",
   "id": "ae7c89ad",
   "metadata": {},
   "source": [
    "### 4.1.1 삽입과 검색"
   ]
  },
  {
   "cell_type": "markdown",
   "id": "78f56dfc",
   "metadata": {},
   "source": [
    "해시 테이블을 처음 생성하면 배열을 사용할 때 처럼 메모리부터 할당한다. <br>\n",
    "<br>\n",
    "새로운 데이터의 위치는 데이터의 두 가지 속성으로 결정된다.\n",
    "하나는 키의 해시값이고, 다른 하나는 데이터의 값을 다른 객체와 비교하는 방법이다.\n",
    "데이터를 삽입하면 먼저 키를 해시한 후 마스크 처리하여 배열의 색인으로 만들기 때문이다. \n",
    "마스크는 해시값이 할당된 메모리 블록의 수보다 작아지도록 조정한다. \n",
    "만약에 메모리 블록을 8개 할당했고 해시값이 28975라면, 28975 & 0b111 = 7을 블록 색인으로 사용할 수 있을 것이다.\n",
    "하지만 사전이 512개의 메모리 블록을 차지할 정도로 커진다면 마스크값은 ob111111111이 되고,\n",
    "블록 색인은 28975 & ob111111111이 된다."
   ]
  },
  {
   "cell_type": "markdown",
   "id": "e2e4ff47",
   "metadata": {},
   "source": [
    "**예제 4-4** 사전 탐색 과정"
   ]
  },
  {
   "cell_type": "code",
   "execution_count": null,
   "id": "eeeae3ad",
   "metadata": {},
   "outputs": [],
   "source": [
    "def index_sequence(key, mask=0b111, PERTURB_SHIFT=5):\n",
    "    perturb = hash(key) # 1\n",
    "    i = perturb & mask\n",
    "    yield i\n",
    "    while True:\n",
    "        perturb >>= PERTURB_SHIFT\n",
    "        i = (i * 5 + perturb + 1) & mask\n",
    "        yield i\n",
    "\n",
    "# 1: hash는 정수를 반환하며 C파이썬의 실제 C 코드는 부호가 없는 정수를 사용한다. \n",
    "#    따라서 이 의사 코드가 C파이썬의 동작을 100% 재현하지는 못하지만 어느 정도 가늠할 수는 있다."
   ]
  },
  {
   "cell_type": "markdown",
   "id": "7db9e067",
   "metadata": {},
   "source": [
    "**예제 4-5** 사용자 정의 해시 함수"
   ]
  },
  {
   "cell_type": "code",
   "execution_count": null,
   "id": "ffe44cbb",
   "metadata": {},
   "outputs": [],
   "source": [
    "class City(str):\n",
    "    def __hash__(self):\n",
    "        return ord(self[0])\n",
    "\n",
    "# 임의 값의 도시 이름으로 사전을 생성한다.\n",
    "data = {\n",
    "    City(\"Rome\"): \"Italy\",\n",
    "    City(\"San Francisco\"): \"USA\",\n",
    "    City(\"New York\"): \"USA\",\n",
    "    City(\"Barcelona\"): \"Spain\",\n",
    "}\n",
    "\n",
    "# 해쉬 함수는 파이썬의 ord 함수를 사용한다. (입력의 첫 글자를 정수로 변환한다.)\n",
    "# 항목이 4개 있는 사전에서 마스크값으로 0b111을 사용하는데, 다음과 같이 Barcelona와 Rome이 같은 색인을 만들어 낸다.\n",
    "# (사전의 최소 항목 개수가 8개라서 마스크가 0b111이다.)\n",
    "# City(\"Barcelona\").__hash__() = ord(\"B\") = 66이고, 66 & 0b111 = 2이다.\n",
    "# City(\"Rome\").__hash__() = ord(\"R\") = 82이고, 82 & 0b111 = 2이다."
   ]
  },
  {
   "cell_type": "markdown",
   "id": "70f84600",
   "metadata": {},
   "source": [
    "### 4.1.3 크기 변경"
   ]
  },
  {
   "cell_type": "markdown",
   "id": "afe30988",
   "metadata": {},
   "source": [
    "해시 테이블에 항목이 추가되면 해시 테이블의 크기도 그에 맞춰 변경되어야 한다. <br>\n",
    "<br>\n",
    "기본적으로 사전 혹은 셋의 최소 크기는 8이다. 그리고 사전이 2/3만큼 찰 때마다 크기를 3배 늘린다. 즉, 다음과 같은 순서로 크기가 변경된다. <br>\n",
    "8; 18; 39; 81; 165; 333; 669; 1,341; 2,685; ... <br>\n",
    "<br>\n",
    "해시 테이블에서 많은 항목이 삭제되면 크기가 줄어들 수 있다. 하지만 **크기 변경은 삽인 연산 중에만 발생**한다."
   ]
  },
  {
   "cell_type": "markdown",
   "id": "cabd6155",
   "metadata": {},
   "source": [
    "### 4.1.4 해시 함수와 엔트로피"
   ]
  },
  {
   "cell_type": "markdown",
   "id": "084fcbe8",
   "metadata": {},
   "source": [
    "일반적으로 어떤 클래스의 두 인스턴스는 서로 다르고 해시 테이블 내에서 충돌이 발생하지 않으므로 이 내용을 받아들일 수 있다. 하지만 때에 따라서는 set이나 dict 객체가 항목의 id차이를 인식하지 않았으면 하기도 한다. 다음 클래스 정의를 보라."
   ]
  },
  {
   "cell_type": "code",
   "execution_count": 19,
   "id": "697d1f00",
   "metadata": {},
   "outputs": [],
   "source": [
    "class Point(object):\n",
    "    def __init__(self, x, y):\n",
    "        self.x, self.y = x, y"
   ]
  },
  {
   "cell_type": "markdown",
   "id": "b994126d",
   "metadata": {},
   "source": [
    "만일 x, y값이 동일한 Point객체를 여러 개 생성하면 메모리에서 각 객체는 서로 다른 위치에 있으므로 해시값이 모두 다르다. \n",
    "이 객체들을 모두 같은 set에 추가한다면 각각의 항목이 추가된다."
   ]
  },
  {
   "cell_type": "code",
   "execution_count": 23,
   "id": "ebc83e9e",
   "metadata": {},
   "outputs": [
    {
     "name": "stdout",
     "output_type": "stream",
     "text": [
      "{<__main__.Point object at 0x000002D3C257CA00>, <__main__.Point object at 0x000002D3C257CC10>}\n",
      "False\n"
     ]
    }
   ],
   "source": [
    "p1 = Point(1,1)\n",
    "p2 = Point(1,1)\n",
    "print(set([p1, p2]))\n",
    "print(Point(1,1) in set([p1, p2]))"
   ]
  },
  {
   "cell_type": "markdown",
   "id": "afad23be",
   "metadata": {},
   "source": [
    "이 문제는 객체의 메모리 주소가 아니라 실제 내용을 기반으로 하는 사용자 정의 해시 함수를 작성해서 해결할 수 있다."
   ]
  },
  {
   "cell_type": "code",
   "execution_count": 1,
   "id": "bfd695f8",
   "metadata": {},
   "outputs": [],
   "source": [
    "class PointHash(object):\n",
    "    def __init__(self, x, y):\n",
    "        self.x, self.y = x, y\n",
    "\n",
    "    def __hash__(self):\n",
    "        return hash((self.x, self.y))\n",
    "\n",
    "    def __eq__(self, other):\n",
    "        return self.x == other.x and self.y == other.y"
   ]
  },
  {
   "cell_type": "code",
   "execution_count": 4,
   "id": "70320070",
   "metadata": {},
   "outputs": [
    {
     "name": "stdout",
     "output_type": "stream",
     "text": [
      "{<__main__.PointHash object at 0x000002AFBF4F5970>}\n",
      "True\n"
     ]
    }
   ],
   "source": [
    "p3 = PointHash(1,1)\n",
    "p4 = PointHash(1,1)\n",
    "print(set([p3, p4]))\n",
    "print(PointHash(1,1) in set([p3, p4]))"
   ]
  },
  {
   "cell_type": "markdown",
   "id": "2ff58dba",
   "metadata": {},
   "source": [
    "해시 함수가 얼마나 균일한 분포로 해시값을 만들어 내는지를 해시 함수의 **엔트로피**라고 하며, 다음과 같이 정의한다. <br>\n",
    "$$ S = -\\sum_i p(i) \\log p(i) $$\n",
    "$p(i)$는 해시함수 i를 출력할 확률이다. 모든 해시값의 확률이 같을 때 엔트로피가 최대가 된다. 엔트로피가 최대가 되는 해시 함수는 최소 충돌을 보장하며 **완전** 해시 함수라고 한다."
   ]
  },
  {
   "cell_type": "markdown",
   "id": "b7431515",
   "metadata": {},
   "source": [
    "**예제 4-6** 두 소문자를 조합한 최적 해시 함수"
   ]
  },
  {
   "cell_type": "markdown",
   "id": "1ca1fb40",
   "metadata": {},
   "source": [
    "예를 들어, 사전의 키로 두 소문자의 모든 조합('aa', 'ab', 'ac' 등 총 676개)을 사용한다면 다음과 같은 해시 함수가 괜찮은 선택이 될 것이다. 이 해시 함수는 모든 두 소문자 조합에 대해서 해시 충돌이 발생하지 않으며, 항목 676개 짜리 사전에는 크기가 2,048인 해시 테이블이 사용되므로 마스크값은 bin(2048-1) = 0b1111111111을 사용하면 된다."
   ]
  },
  {
   "cell_type": "code",
   "execution_count": null,
   "id": "754ce254",
   "metadata": {},
   "outputs": [],
   "source": [
    "def twoletter_hash(key):\n",
    "    offset = ord('a')\n",
    "    k1, k2 = key\n",
    "    return (ord(k2) - offset) + 26 * (ord(k1) - offset)"
   ]
  },
  {
   "cell_type": "markdown",
   "id": "60bb53ec",
   "metadata": {},
   "source": [
    "**예제 4-7** 좋은 해시 함수와 나쁜 해시 함수의 시간 차이"
   ]
  },
  {
   "cell_type": "code",
   "execution_count": 5,
   "id": "8d4d5cbe",
   "metadata": {},
   "outputs": [
    {
     "name": "stdout",
     "output_type": "stream",
     "text": [
      "Min lookup time for baddict: 1.397932800000035\n",
      "Min lookup time for gooddict: 0.030049799999915194\n"
     ]
    }
   ],
   "source": [
    "import string\n",
    "import timeit\n",
    "\n",
    "class BadHash(str):\n",
    "    def __hash__(self):\n",
    "        return 42\n",
    "\n",
    "class GoodHash(str):\n",
    "    def __hash__(self):\n",
    "        \"\"\"\n",
    "        This is a slightly optimized version of twoletter_hash\n",
    "        \"\"\"\n",
    "        return ord(self[1]) + 26 * ord(self[0]) - 2619\n",
    "\n",
    "if __name__ == \"__main__\":\n",
    "    baddict = set()\n",
    "    gooddict = set()\n",
    "    for i in string.ascii_lowercase:\n",
    "        for j in string.ascii_lowercase:\n",
    "            key = i + j\n",
    "            baddict.add(BadHash(key))\n",
    "            gooddict.add(GoodHash(key))\n",
    "\n",
    "    badtime = timeit.repeat(\n",
    "        \"key in baddict\",\n",
    "        setup=\"from __main__ import baddict, BadHash; key = BadHash('zz')\",\n",
    "        repeat=3,\n",
    "        number=100_000,\n",
    "    )\n",
    "    goodtime = timeit.repeat(\n",
    "        \"key in gooddict\",\n",
    "        setup=\"from __main__ import gooddict, GoodHash; key = GoodHash('zz')\",\n",
    "        repeat=3,\n",
    "        number=100_000,\n",
    "    )\n",
    "\n",
    "    print(f\"Min lookup time for baddict: {min(badtime)}\")\n",
    "    print(f\"Min lookup time for gooddict: {min(goodtime)}\")"
   ]
  },
  {
   "cell_type": "markdown",
   "id": "96b18204",
   "metadata": {},
   "source": [
    "## 4.2 사전과 네임스페이스"
   ]
  },
  {
   "cell_type": "markdown",
   "id": "45395793",
   "metadata": {},
   "source": [
    "파이썬에서 변수, 함수, 모듈이 사용될 때 그 객체를 어디서 찾을지 결정하는 계층이 있다. <br>\n",
    "<br>\n",
    "가장 먼저 모든 지역 변수를 담은 locals() 배열을 찾는다. 파이썬은 지역 변수 탐색을 빨리 끝내도록 최선을 다하며, 이과정은 사전 탐색을 하지 않는 유일한 부분이다. <br>\n",
    "<br>\n",
    "다음으로 globals() 사전에서 찾는다. <br>\n",
    "<br>\n",
    "마지막으로 __ builtin __ 객체에서 찾는다. locals()와 globals()는 사전이지만 __ builtin __ 은 기술적으로는 모듈 객체이다."
   ]
  },
  {
   "cell_type": "markdown",
   "id": "4a2ff9de",
   "metadata": {},
   "source": [
    "**예제 4-8** 네임스페이스 탐색"
   ]
  },
  {
   "cell_type": "code",
   "execution_count": 6,
   "id": "738b1d77",
   "metadata": {},
   "outputs": [],
   "source": [
    "import math\n",
    "from math import sin\n",
    "\n",
    "\n",
    "def test1(x):\n",
    "    \"\"\"\n",
    "    >>> %timeit test1(123_456)\n",
    "    162 µs ± 3.82 µs per loop (mean ± std. dev. of 7 runs, 10000 loops each)\n",
    "    \"\"\"\n",
    "    res = 1\n",
    "    for _ in range(1000):\n",
    "        res += math.sin(x)\n",
    "    return res\n",
    "\n",
    "\n",
    "def test2(x):\n",
    "    \"\"\"\n",
    "    >>> %timeit test2(123_456)\n",
    "    124 µs ± 6.77 µs per loop (mean ± std. dev. of 7 runs, 10000 loops each)\n",
    "    \"\"\"\n",
    "    res = 1\n",
    "    for _ in range(1000):\n",
    "        res += sin(x)\n",
    "    return res\n",
    "\n",
    "\n",
    "def test3(x, sin=math.sin):\n",
    "    \"\"\"\n",
    "    >>> %timeit test3(123_456)\n",
    "    105 µs ± 3.35 µs per loop (mean ± std. dev. of 7 runs, 10000 loops each)\n",
    "    \"\"\"\n",
    "    res = 1\n",
    "    for _ in range(1000):\n",
    "        res += sin(x)\n",
    "    return res\n"
   ]
  },
  {
   "cell_type": "markdown",
   "id": "d21cc6f7",
   "metadata": {},
   "source": [
    "**예제 4-9** 네임스페이스 탐색 과정의 역어셈블"
   ]
  },
  {
   "cell_type": "code",
   "execution_count": 9,
   "id": "c87d416b",
   "metadata": {},
   "outputs": [],
   "source": [
    "import dis"
   ]
  },
  {
   "cell_type": "code",
   "execution_count": 10,
   "id": "c3e3abd8",
   "metadata": {},
   "outputs": [
    {
     "name": "stdout",
     "output_type": "stream",
     "text": [
      " 10           0 LOAD_CONST               1 (1)\n",
      "              2 STORE_FAST               1 (res)\n",
      "\n",
      " 11           4 LOAD_GLOBAL              0 (range)\n",
      "              6 LOAD_CONST               2 (1000)\n",
      "              8 CALL_FUNCTION            1\n",
      "             10 GET_ITER\n",
      "        >>   12 FOR_ITER                18 (to 32)\n",
      "             14 STORE_FAST               2 (_)\n",
      "\n",
      " 12          16 LOAD_FAST                1 (res)\n",
      "             18 LOAD_GLOBAL              1 (math)\n",
      "             20 LOAD_METHOD              2 (sin)\n",
      "             22 LOAD_FAST                0 (x)\n",
      "             24 CALL_METHOD              1\n",
      "             26 INPLACE_ADD\n",
      "             28 STORE_FAST               1 (res)\n",
      "             30 JUMP_ABSOLUTE           12\n",
      "\n",
      " 13     >>   32 LOAD_FAST                1 (res)\n",
      "             34 RETURN_VALUE\n"
     ]
    }
   ],
   "source": [
    "dis.dis(test1)\n",
    "# 먼저 math 모듈을 로드하고 그다음에 이 모듈에서 sin 함수를 찾는다. (사전 탐색 두 번 발생)"
   ]
  },
  {
   "cell_type": "code",
   "execution_count": 11,
   "id": "e0cdbf55",
   "metadata": {},
   "outputs": [
    {
     "name": "stdout",
     "output_type": "stream",
     "text": [
      " 21           0 LOAD_CONST               1 (1)\n",
      "              2 STORE_FAST               1 (res)\n",
      "\n",
      " 22           4 LOAD_GLOBAL              0 (range)\n",
      "              6 LOAD_CONST               2 (1000)\n",
      "              8 CALL_FUNCTION            1\n",
      "             10 GET_ITER\n",
      "        >>   12 FOR_ITER                16 (to 30)\n",
      "             14 STORE_FAST               2 (_)\n",
      "\n",
      " 23          16 LOAD_FAST                1 (res)\n",
      "             18 LOAD_GLOBAL              1 (sin)\n",
      "             20 LOAD_FAST                0 (x)\n",
      "             22 CALL_FUNCTION            1\n",
      "             24 INPLACE_ADD\n",
      "             26 STORE_FAST               1 (res)\n",
      "             28 JUMP_ABSOLUTE           12\n",
      "\n",
      " 24     >>   30 LOAD_FAST                1 (res)\n",
      "             32 RETURN_VALUE\n"
     ]
    }
   ],
   "source": [
    "dis.dis(test2)\n",
    "# math 모듈에서 명시적으로 sin 함수를 임포트했으므로, 이 sin 함수는 전역 네임스페이스에서 직접 접근할 수 있다.\n",
    "# math 모듈을 찾은 다음 모듈의 속성을 탐색하는 과정을 피할 수 있지만, 여전히 전역 네임스페이스에서 sin 함수를 찾아야 한다."
   ]
  },
  {
   "cell_type": "code",
   "execution_count": 12,
   "id": "6659c16e",
   "metadata": {},
   "outputs": [
    {
     "name": "stdout",
     "output_type": "stream",
     "text": [
      " 32           0 LOAD_CONST               1 (1)\n",
      "              2 STORE_FAST               2 (res)\n",
      "\n",
      " 33           4 LOAD_GLOBAL              0 (range)\n",
      "              6 LOAD_CONST               2 (1000)\n",
      "              8 CALL_FUNCTION            1\n",
      "             10 GET_ITER\n",
      "        >>   12 FOR_ITER                16 (to 30)\n",
      "             14 STORE_FAST               3 (_)\n",
      "\n",
      " 34          16 LOAD_FAST                2 (res)\n",
      "             18 LOAD_FAST                1 (sin)\n",
      "             20 LOAD_FAST                0 (x)\n",
      "             22 CALL_FUNCTION            1\n",
      "             24 INPLACE_ADD\n",
      "             26 STORE_FAST               2 (res)\n",
      "             28 JUMP_ABSOLUTE           12\n",
      "\n",
      " 35     >>   30 LOAD_FAST                2 (res)\n",
      "             32 RETURN_VALUE\n"
     ]
    }
   ],
   "source": [
    "dis.dis(test3)\n",
    "# sin 함수를 키워드 인자로 받도록 하고 기본값을 math 모듈의 sin 함수로 지정했다.\n",
    "# 여전히 math 모듈 안에서 이 함수를 찾아야 하지만, test3 함수가 최초로 정의될 때만 찾는다."
   ]
  }
 ],
 "metadata": {
  "kernelspec": {
   "display_name": "Python 3",
   "language": "python",
   "name": "python3"
  },
  "language_info": {
   "codemirror_mode": {
    "name": "ipython",
    "version": 3
   },
   "file_extension": ".py",
   "mimetype": "text/x-python",
   "name": "python",
   "nbconvert_exporter": "python",
   "pygments_lexer": "ipython3",
   "version": "3.8.8"
  }
 },
 "nbformat": 4,
 "nbformat_minor": 5
}
