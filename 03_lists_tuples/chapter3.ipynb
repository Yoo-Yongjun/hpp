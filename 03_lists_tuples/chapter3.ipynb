{
 "cells": [
  {
   "cell_type": "markdown",
   "id": "9e766641",
   "metadata": {},
   "source": [
    "# Cahpter 3. 리스트와 튜플"
   ]
  },
  {
   "cell_type": "markdown",
   "id": "23ad2e52",
   "metadata": {},
   "source": [
    "**예제 3-1** 크기가 다른 리스트에서 항목을 읽는 데 걸린 시간"
   ]
  },
  {
   "cell_type": "code",
   "execution_count": 8,
   "id": "82c88186",
   "metadata": {},
   "outputs": [
    {
     "name": "stdout",
     "output_type": "stream",
     "text": [
      "31.6 ns ± 0.747 ns per loop (mean ± std. dev. of 7 runs, 10000000 loops each)\n"
     ]
    }
   ],
   "source": [
    "%%timeit l = list(range(10))\n",
    "... l[5]"
   ]
  },
  {
   "cell_type": "code",
   "execution_count": 12,
   "id": "2953066d",
   "metadata": {},
   "outputs": [
    {
     "name": "stdout",
     "output_type": "stream",
     "text": [
      "31.8 ns ± 0.985 ns per loop (mean ± std. dev. of 7 runs, 10000000 loops each)\n"
     ]
    }
   ],
   "source": [
    "%%timeit l = list(range(1_000_000))\n",
    "... l[100_000]"
   ]
  },
  {
   "cell_type": "markdown",
   "id": "8fb6aaef",
   "metadata": {},
   "source": [
    "**예제 3-2** 리스트의 선형 탐색"
   ]
  },
  {
   "cell_type": "code",
   "execution_count": null,
   "id": "b405e333",
   "metadata": {},
   "outputs": [],
   "source": [
    "def linear_search(needle, array):\n",
    "    for i, item in enumerate(array):\n",
    "        if item == needle:\n",
    "            return i\n",
    "    return -1"
   ]
  },
  {
   "cell_type": "markdown",
   "id": "3f3967f5",
   "metadata": {},
   "source": [
    "## 3.1 더 효율적인 탐색"
   ]
  },
  {
   "cell_type": "markdown",
   "id": "4f6c93ff",
   "metadata": {},
   "source": [
    "**예제 3-3** 정렬된 리스트와 이진 탐색을 이용한 효율적인 탐색"
   ]
  },
  {
   "cell_type": "code",
   "execution_count": null,
   "id": "e0f1d5ec",
   "metadata": {},
   "outputs": [],
   "source": [
    "def binary_search(needle, haystack):\n",
    "    # imin and imax store the bounds of the haystack that we are currently considering.\n",
    "    # This starts as the bounds of the haystack and slowly converges to surround the needle.\n",
    "    imin, imax = 0, len(haystack)\n",
    "    while True:\n",
    "        if imin >= imax:\n",
    "            return -1\n",
    "        midpoint = (imin + imax) // 2\n",
    "        if haystack[midpoint] > needle:\n",
    "            imax = midpoint\n",
    "        elif haystack[midpoint] < needle:\n",
    "            imin = midpoint + 1\n",
    "        else:\n",
    "            return midpoint"
   ]
  },
  {
   "cell_type": "markdown",
   "id": "85a14f2f",
   "metadata": {},
   "source": [
    "**예제 3-4** bisect 모듈을 이용해서 가까운 값 찾기"
   ]
  },
  {
   "cell_type": "code",
   "execution_count": 13,
   "id": "639068e2",
   "metadata": {},
   "outputs": [
    {
     "name": "stdout",
     "output_type": "stream",
     "text": [
      "[18, 83, 96, 269, 308, 565, 584, 607, 610, 708]\n",
      "Closest value to -250: 18\n",
      "Closest value to 500: 565\n",
      "Closest value to 1100: 708\n"
     ]
    }
   ],
   "source": [
    "import bisect\n",
    "import random\n",
    "\n",
    "\n",
    "def find_closest(haystack, needle):\n",
    "    # bisect.bisect_left will return the first value in the haystack\n",
    "    # that is greater than the needle\n",
    "    i = bisect.bisect_left(haystack, needle)\n",
    "    if i == len(haystack):\n",
    "        return i - 1\n",
    "    elif haystack[i] == needle:\n",
    "        return i\n",
    "    elif i > 0:\n",
    "        j = i - 1\n",
    "        # since we know the value is larger than needle (and vice versa for the\n",
    "        # value at j), we don't need to use absolute values here\n",
    "        if haystack[i] - needle > needle - haystack[j]:\n",
    "            return j\n",
    "    return i\n",
    "\n",
    "\n",
    "if __name__ == \"__main__\":\n",
    "    important_numbers = []\n",
    "    for i in range(10):\n",
    "        new_number = random.randint(0, 1000)\n",
    "        bisect.insort(important_numbers, new_number)\n",
    "\n",
    "    # important_numbers will already be in order because we inserted new elements\n",
    "    # with bisect.insort\n",
    "    print(important_numbers)\n",
    "    # > [14, 265, 496, 661, 683, 734, 881, 892, 973, 992]\n",
    "\n",
    "    closest_index = find_closest(important_numbers, -250)\n",
    "    print(f\"Closest value to -250: {important_numbers[closest_index]}\")\n",
    "    # > Closest value to -250: 14\n",
    "\n",
    "    closest_index = find_closest(important_numbers, 500)\n",
    "    print(f\"Closest value to 500: {important_numbers[closest_index]}\")\n",
    "    # > Closest value to 500: 496\n",
    "\n",
    "    closest_index = find_closest(important_numbers, 1100)\n",
    "    print(f\"Closest value to 1100: {important_numbers[closest_index]}\")\n",
    "    # > Closest value to 1100: 992"
   ]
  },
  {
   "cell_type": "markdown",
   "id": "ec9fd32a",
   "metadata": {},
   "source": [
    "## 3.2 리스트와 튜플"
   ]
  },
  {
   "cell_type": "markdown",
   "id": "b361b0ad",
   "metadata": {},
   "source": [
    "**예제 3-7** append와 리스트 내포의 메모리 사용량과 실행 시간 차이 비교<br>\n",
    "(append를 사용하면 리스트 내포로 만들 때보다 메모리를 더 많이 사용한다는데, 왜 둘이 비슷하지... help!!)"
   ]
  },
  {
   "cell_type": "code",
   "execution_count": 3,
   "id": "063fbd6c",
   "metadata": {},
   "outputs": [],
   "source": [
    "%load_ext memory_profiler"
   ]
  },
  {
   "cell_type": "code",
   "execution_count": 4,
   "id": "e008d85c",
   "metadata": {},
   "outputs": [
    {
     "name": "stdout",
     "output_type": "stream",
     "text": [
      "peak memory: 55.50 MiB, increment: 4.86 MiB\n"
     ]
    }
   ],
   "source": [
    "%memit [i*i for i in range(100_000)]"
   ]
  },
  {
   "cell_type": "code",
   "execution_count": 5,
   "id": "5e2ca49a",
   "metadata": {},
   "outputs": [
    {
     "name": "stdout",
     "output_type": "stream",
     "text": [
      "peak memory: 51.12 MiB, increment: 0.05 MiB\n"
     ]
    }
   ],
   "source": [
    "%memit l = []\n",
    "... for i in range(100_000):\n",
    "...     l.append(i * 2)"
   ]
  },
  {
   "cell_type": "code",
   "execution_count": 6,
   "id": "f0a5dcc4",
   "metadata": {},
   "outputs": [
    {
     "name": "stdout",
     "output_type": "stream",
     "text": [
      "6.8 ms ± 222 µs per loop (mean ± std. dev. of 7 runs, 100 loops each)\n"
     ]
    }
   ],
   "source": [
    "%timeit [i*i for i in range(100_000)]"
   ]
  },
  {
   "cell_type": "code",
   "execution_count": 7,
   "id": "2e0b8cfe",
   "metadata": {},
   "outputs": [
    {
     "name": "stdout",
     "output_type": "stream",
     "text": [
      "27 ns ± 0.314 ns per loop (mean ± std. dev. of 7 runs, 10000000 loops each)\n"
     ]
    }
   ],
   "source": [
    "%timeit l = []\n",
    "... for i in range(100_000):\n",
    "...     l.append(i * 2)"
   ]
  },
  {
   "cell_type": "markdown",
   "id": "e92306fd",
   "metadata": {},
   "source": [
    "**예제 3-8** 리스트와 튜플의 인스턴스 생성 시간 비교"
   ]
  },
  {
   "cell_type": "code",
   "execution_count": 2,
   "id": "d0783a4a",
   "metadata": {},
   "outputs": [
    {
     "name": "stdout",
     "output_type": "stream",
     "text": [
      "73.5 ns ± 3.25 ns per loop (mean ± std. dev. of 7 runs, 10000000 loops each)\n"
     ]
    }
   ],
   "source": [
    "%timeit l = [0, 1, 2, 3, 4, 5, 6, 7, 8, 9]"
   ]
  },
  {
   "cell_type": "code",
   "execution_count": 3,
   "id": "266b5ae8",
   "metadata": {},
   "outputs": [
    {
     "name": "stdout",
     "output_type": "stream",
     "text": [
      "16.6 ns ± 0.124 ns per loop (mean ± std. dev. of 7 runs, 100000000 loops each)\n"
     ]
    }
   ],
   "source": [
    "%timeit t = (0, 1, 2, 3, 4, 5, 6, 7, 8, 9)"
   ]
  }
 ],
 "metadata": {
  "kernelspec": {
   "display_name": "Python 3",
   "language": "python",
   "name": "python3"
  },
  "language_info": {
   "codemirror_mode": {
    "name": "ipython",
    "version": 3
   },
   "file_extension": ".py",
   "mimetype": "text/x-python",
   "name": "python",
   "nbconvert_exporter": "python",
   "pygments_lexer": "ipython3",
   "version": "3.8.8"
  }
 },
 "nbformat": 4,
 "nbformat_minor": 5
}
