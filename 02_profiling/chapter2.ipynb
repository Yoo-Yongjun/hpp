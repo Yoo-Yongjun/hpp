{
 "cells": [
  {
   "cell_type": "markdown",
   "id": "f3e368f3",
   "metadata": {},
   "source": [
    "# Chapter 2. 프로파일링으로 병목 지점 찾기"
   ]
  },
  {
   "cell_type": "markdown",
   "id": "1ba6e654",
   "metadata": {},
   "source": [
    "## 2.3 전체 줄리아 집합 계산하기"
   ]
  },
  {
   "cell_type": "markdown",
   "id": "3886d252",
   "metadata": {},
   "source": [
    "**예제 2-1** 좌표공간을 위한 전역 상수 선언"
   ]
  },
  {
   "cell_type": "code",
   "execution_count": 2,
   "id": "38e4ee61",
   "metadata": {},
   "outputs": [],
   "source": [
    "\"\"\" PIL기반의 이미지 생성을 제외한 줄리아 집합 생성기 \"\"\"\n",
    "import time\n",
    "\n",
    "# 계산할 복소 평면 역역\n",
    "x1, x2, y1, y2 = -1.8, 1.8, -1.8, 1.8\n",
    "c_real, c_imag = -0.62772, -0.42193"
   ]
  },
  {
   "cell_type": "markdown",
   "id": "731feafe",
   "metadata": {},
   "source": [
    "**예제 2-2** 계산 함수에 입력으로 넘길 좌표 리스트 생성"
   ]
  },
  {
   "cell_type": "code",
   "execution_count": 3,
   "id": "d8be5b66",
   "metadata": {},
   "outputs": [],
   "source": [
    "def calc_pure_python(desired_width, max_iterations):\n",
    "    \"\"\" 복소 좌표(zs)와 복소 인자(cs) 리스트를 만들고, 줄리아 집합을 생성한다. \"\"\"\n",
    "    x_step = (x2-x1) / desired_width\n",
    "    y_step = (y1-y2) / desired_width\n",
    "    x = []\n",
    "    y = []\n",
    "    \n",
    "    ycoord = y2\n",
    "    while ycoord > y1:\n",
    "        y.append(ycoord)\n",
    "        ycoord += y_step\n",
    "    xcoord = x1\n",
    "    while xcoord < x2:\n",
    "        x.append(xcoord)\n",
    "        xcoord += x_step\n",
    "        \n",
    "    # 좌표 리스트와 각 셀의 초기 조건을 만든다.\n",
    "    # 초기 조건은 상수이며 쉽게 제거할 수 있음에 주목하자.\n",
    "    # 우리가 만든 함수의 몇몇 입력을 사용한 실제 시나리오를 시뮬레이션할 때 사용한다.\n",
    "    zs = []\n",
    "    cs = []\n",
    "    for ycoord in y:\n",
    "        for xcoord in x:\n",
    "            zs.append(complex(xcoord, ycoord))\n",
    "            cs.append(complex(c_real, c_imag))\n",
    "    \n",
    "    print(\"Length of x:\", len(x))\n",
    "    print(\"Total elements:\", len(zs))\n",
    "    start_time = time.time()\n",
    "    output = calculate_z_serial_purepython(max_iterations, zs, cs)\n",
    "    end_time = time.time()\n",
    "    secs = end_time - start_time\n",
    "    print(calculate_z_serial_purepython.__name__ + \" took\", secs, \"seconds\")\n",
    "    \n",
    "    # 다음 sum은 1000^2 그리드에 반복 300번을 가정한 값이다.\n",
    "    # 우리가 의도한 대로 좌표가 변화하는지 확인한다.\n",
    "    assert sum(output) == 33219980"
   ]
  },
  {
   "cell_type": "markdown",
   "id": "5b74c827",
   "metadata": {},
   "source": [
    "**예제 2-3** CPU를 집중적으로 사용하는 계산 함수"
   ]
  },
  {
   "cell_type": "code",
   "execution_count": 4,
   "id": "b6c7c663",
   "metadata": {},
   "outputs": [],
   "source": [
    "def calculate_z_serial_purepython(maxiter, zs, cs):\n",
    "    \"\"\" 줄리아 갱신 규칙을 사용해서 output 리스트 계산하기 \"\"\"\n",
    "    output = [0] * len(zs)\n",
    "    for i in range(len(zs)):\n",
    "        n = 0\n",
    "        z = zs[i]\n",
    "        c = cs[i]\n",
    "        while abs(z) < 2 and n < maxiter:\n",
    "            z = z * z + c\n",
    "            n += 1\n",
    "        output[i] = n\n",
    "    return output"
   ]
  },
  {
   "cell_type": "markdown",
   "id": "e2f792cc",
   "metadata": {},
   "source": [
    "**예제 2-4** 코드의 __main__"
   ]
  },
  {
   "cell_type": "code",
   "execution_count": 5,
   "id": "a4500f86",
   "metadata": {},
   "outputs": [
    {
     "name": "stdout",
     "output_type": "stream",
     "text": [
      "Length of x: 1000\n",
      "Total elements: 1000000\n",
      "calculate_z_serial_purepython took 7.923752784729004 seconds\n"
     ]
    }
   ],
   "source": [
    "if __name__ == \"__main__\":\n",
    "    # 노트북 컴퓨터에 적절한 기본값으로 줄리아 집합을 구하는 순수 파이썬 구현\n",
    "    calc_pure_python(desired_width=1000, max_iterations=300)"
   ]
  },
  {
   "cell_type": "markdown",
   "id": "05fa8af0",
   "metadata": {},
   "source": [
    "## 2.4 시간을 측정하는 간단한 방법: print와 데커레이터"
   ]
  },
  {
   "cell_type": "markdown",
   "id": "a74eae40",
   "metadata": {},
   "source": [
    "**예제 2-5** 시간 측정 자동화를 위한 데커레이터 정의"
   ]
  },
  {
   "cell_type": "code",
   "execution_count": 9,
   "id": "bda9870b",
   "metadata": {},
   "outputs": [
    {
     "name": "stdout",
     "output_type": "stream",
     "text": [
      "Length of x: 1000\n",
      "Total elements: 1000000\n",
      "@timefn: calculate_z_serial_purepython took 7.999523162841797 seconds\n",
      "calculate_z_serial_purepython took 7.999523162841797 seconds\n"
     ]
    }
   ],
   "source": [
    "\"\"\"Julia set generator with timing decorator\"\"\"\n",
    "import time\n",
    "from functools import wraps\n",
    "\n",
    "# area of complex space to investigate\n",
    "x1, x2, y1, y2 = -1.8, 1.8, -1.8, 1.8\n",
    "c_real, c_imag = -0.62772, -.42193\n",
    "\n",
    "\n",
    "def timefn(fn):\n",
    "    @wraps(fn)\n",
    "    def measure_time(*args, **kwargs):\n",
    "        t1 = time.time()\n",
    "        result = fn(*args, **kwargs)\n",
    "        t2 = time.time()\n",
    "        print(f\"@timefn: {fn.__name__} took {t2 - t1} seconds\")\n",
    "        return result\n",
    "    return measure_time\n",
    "\n",
    "\n",
    "@timefn\n",
    "def calculate_z_serial_purepython(maxiter, zs, cs):\n",
    "    \"\"\" 줄리아 갱신 규칙을 사용해서 output 리스트 계산하기 \"\"\"\n",
    "    output = [0] * len(zs)\n",
    "    for i in range(len(zs)):\n",
    "        n = 0\n",
    "        z = zs[i]\n",
    "        c = cs[i]\n",
    "        while abs(z) < 2 and n < maxiter:\n",
    "            z = z * z + c\n",
    "            n += 1\n",
    "        output[i] = n\n",
    "    return output\n",
    "\n",
    "\n",
    "def calc_pure_python(draw_output, desired_width, max_iterations):\n",
    "    \"\"\" 복소 좌표(zs)와 복소 인자(cs) 리스트를 만들고, 줄리아 집합을 생성한다. \"\"\"\n",
    "    x_step = (x2 - x1) / desired_width\n",
    "    y_step = (y1 - y2) / desired_width\n",
    "    x = []\n",
    "    y = []\n",
    "    ycoord = y2\n",
    "    while ycoord > y1:\n",
    "        y.append(ycoord)\n",
    "        ycoord += y_step\n",
    "    xcoord = x1\n",
    "    while xcoord < x2:\n",
    "        x.append(xcoord)\n",
    "        xcoord += x_step\n",
    "    # 좌표 리스트와 각 셀의 초기 조건을 만든다.\n",
    "    # 초기 조건은 상수이며 쉽게 제거할 수 있음에 주목하자.\n",
    "    # 우리가 만든 함수의 몇몇 입력을 사용한 실제 시나리오를 시뮬레이션할 때 사용한다.\n",
    "    zs = []\n",
    "    cs = []\n",
    "    for ycoord in y:\n",
    "        for xcoord in x:\n",
    "            zs.append(complex(xcoord, ycoord))\n",
    "            cs.append(complex(c_real, c_imag))\n",
    "\n",
    "    print(\"Length of x:\", len(x))\n",
    "    print(\"Total elements:\", len(zs))\n",
    "    start_time = time.time()\n",
    "    output = calculate_z_serial_purepython(max_iterations, zs, cs)\n",
    "    end_time = time.time()\n",
    "    secs = end_time - start_time\n",
    "    print(calculate_z_serial_purepython.__name__ + \" took\", secs, \"seconds\")\n",
    "\n",
    "    # 다음 sum은 1000^2 그리드에 반복 300번을 가정한 값이다.\n",
    "    # 우리가 의도한 대로 좌표가 변화하는지 확인한다.\n",
    "    assert sum(output) == 33219980\n",
    "\n",
    "\n",
    "# Calculate the Julia set using a pure Python solution with\n",
    "# reasonable defaults for a laptop\n",
    "# set draw_output to True to use PIL to draw an image\n",
    "calc_pure_python(draw_output=False, desired_width=1000, max_iterations=300)"
   ]
  },
  {
   "cell_type": "markdown",
   "id": "be7e8d0f",
   "metadata": {},
   "source": [
    "커맨드라인에서 timeit 모듈을 사용하면, 다음과 같이 출력된다.  \n",
    "(julia1.calc_pure_python에 False 대신 True를 넣으면 이미지도 떠야하는데 우분투에서는 왜 안뜨는 것임? help!!)"
   ]
  },
  {
   "cell_type": "markdown",
   "id": "4a1be6cc",
   "metadata": {},
   "source": [
    "<span style=\"font-family: monospace\"> ~# python3 -m timeit -n 5 -r 1 -s \"import julia1\" \"julia1.calc_pure_python(False, desired_width=1000, max_iterations=300)\"<br>\n",
    "Length of x: 1000<br>\n",
    "Total elements: 1000000<br>\n",
    "calculate_z_serial_purepython took 4.655411958694458 seconds <br>\n",
    "Length of x: 1000<br>\n",
    "Total elements: 1000000<br>\n",
    "calculate_z_serial_purepython took 4.67050313949585 seconds<br>\n",
    "Length of x: 1000<br>\n",
    "Total elements: 1000000<br>\n",
    "calculate_z_serial_purepython took 4.703853130340576 seconds<br>\n",
    "Length of x: 1000<br>\n",
    "Total elements: 1000000<br>\n",
    "calculate_z_serial_purepython took 4.689031362533569 seconds<br>\n",
    "Length of x: 1000<br>\n",
    "Total elements: 1000000<br>\n",
    "calculate_z_serial_purepython took 4.6835267543792725 seconds<br>\n",
    "5 loops, best of 1: 4.96 sec per loop<br>\n",
    "</span>"
   ]
  },
  {
   "cell_type": "code",
   "execution_count": 1,
   "id": "f29635a5",
   "metadata": {},
   "outputs": [
    {
     "name": "stdout",
     "output_type": "stream",
     "text": [
      "Length of x: 1000\n",
      "Total elements: 1000000\n",
      "calculate_z_serial_purepython took 8.46941590309143 seconds\n",
      "300.0\n",
      "Length of x: 1000\n",
      "Total elements: 1000000\n",
      "calculate_z_serial_purepython took 9.302115678787231 seconds\n",
      "300.0\n",
      "Length of x: 1000\n",
      "Total elements: 1000000\n",
      "calculate_z_serial_purepython took 9.113418102264404 seconds\n",
      "300.0\n",
      "Length of x: 1000\n",
      "Total elements: 1000000\n",
      "calculate_z_serial_purepython took 8.563599586486816 seconds\n",
      "300.0\n",
      "Length of x: 1000\n",
      "Total elements: 1000000\n",
      "calculate_z_serial_purepython took 8.551601886749268 seconds\n",
      "300.0\n",
      "Length of x: 1000\n",
      "Total elements: 1000000\n",
      "calculate_z_serial_purepython took 9.385418176651001 seconds\n",
      "300.0\n",
      "Length of x: 1000\n",
      "Total elements: 1000000\n",
      "calculate_z_serial_purepython took 9.170109033584595 seconds\n",
      "300.0\n",
      "Length of x: 1000\n",
      "Total elements: 1000000\n",
      "calculate_z_serial_purepython took 22.674567699432373 seconds\n",
      "300.0\n",
      "13.5 s ± 4.93 s per loop (mean ± std. dev. of 7 runs, 1 loop each)\n"
     ]
    }
   ],
   "source": [
    "import julia1\n",
    "%timeit julia1.calc_pure_python(True, desired_width=1000, max_iterations=300) # True 혹은 False를 넣어줘야함"
   ]
  },
  {
   "cell_type": "markdown",
   "id": "5c206d40",
   "metadata": {},
   "source": [
    "## 2.5 유닉스 time 명령어를 이용한 간단한 시간 측정"
   ]
  },
  {
   "cell_type": "markdown",
   "id": "069d3e10",
   "metadata": {},
   "source": [
    "<span style=\"font-family: monospace\">~# /usr/bin/time -p python3 julia1_nopil.py<br>\n",
    "Length of x: 1000<br>\n",
    "Total elements: 1000000<br>\n",
    "calculate_z_serial_purepython took 4.511674404144287 seconds<br>\n",
    "real 4.79<br>\n",
    "user 4.77<br>\n",
    "sys 0.02</span>"
   ]
  },
  {
   "cell_type": "markdown",
   "id": "54fe2918",
   "metadata": {},
   "source": [
    "<span style=\"font-family: monospace\">~# /usr/bin/time --verbose python3 julia1_nopil.py<br>\n",
    "Length of x: 1000<br>\n",
    "Total elements: 1000000<br>\n",
    "calculate_z_serial_purepython took 4.490870237350464 seconds<br>\n",
    "&nbsp;&nbsp;&nbsp;&nbsp; Command being timed: \"python3 julia1_nopil.py\"<br>\n",
    "&nbsp;&nbsp;&nbsp;&nbsp; User time (seconds): 4.73<br>\n",
    "&nbsp;&nbsp;&nbsp;&nbsp; System time (seconds): 0.03<br>\n",
    "&nbsp;&nbsp;&nbsp;&nbsp; Percent of CPU this job got: 100%<br>\n",
    "&nbsp;&nbsp;&nbsp;&nbsp; Elapsed (wall clock) time (h:mm:ss or m:ss): 0:04.76<br>\n",
    "&nbsp;&nbsp;&nbsp;&nbsp; Average shared text size (kbytes): 0<br>\n",
    "&nbsp;&nbsp;&nbsp;&nbsp; Average unshared data size (kbytes): 0<br>\n",
    "&nbsp;&nbsp;&nbsp;&nbsp; Average stack size (kbytes): 0<br>\n",
    "&nbsp;&nbsp;&nbsp;&nbsp; Average total size (kbytes): 0<br>\n",
    "&nbsp;&nbsp;&nbsp;&nbsp; Maximum resident set size (kbytes): 99540<br>\n",
    "&nbsp;&nbsp;&nbsp;&nbsp; Average resident set size (kbytes): 0<br>\n",
    "&nbsp;&nbsp;&nbsp;&nbsp; Major (requiring I/O) page faults: 0<br>\n",
    "&nbsp;&nbsp;&nbsp;&nbsp; Minor (reclaiming a frame) page faults: 24087<br>\n",
    "&nbsp;&nbsp;&nbsp;&nbsp; Voluntary context switches: 1<br>\n",
    "&nbsp;&nbsp;&nbsp;&nbsp; Involuntary context switches: 6<br>\n",
    "&nbsp;&nbsp;&nbsp;&nbsp; Swaps: 0<br>\n",
    "&nbsp;&nbsp;&nbsp;&nbsp; File system inputs: 0<br>\n",
    "&nbsp;&nbsp;&nbsp;&nbsp; File system outputs: 0<br>\n",
    "&nbsp;&nbsp;&nbsp;&nbsp; Socket messages sent: 0<br>\n",
    "&nbsp;&nbsp;&nbsp;&nbsp; Socket messages received: 0<br>\n",
    "&nbsp;&nbsp;&nbsp;&nbsp; Signals delivered: 0<br>\n",
    "&nbsp;&nbsp;&nbsp;&nbsp; Page size (bytes): 4096<br>\n",
    "&nbsp;&nbsp;&nbsp;&nbsp; Exit status: 0</span>"
   ]
  },
  {
   "cell_type": "markdown",
   "id": "beebd45f",
   "metadata": {},
   "source": [
    "## 2.6 cProfile 모듈 사용하기"
   ]
  },
  {
   "cell_type": "code",
   "execution_count": 8,
   "id": "b4deebcb",
   "metadata": {},
   "outputs": [
    {
     "ename": "IndentationError",
     "evalue": "unindent does not match any outer indentation level (<tokenize>, line 7)",
     "output_type": "error",
     "traceback": [
      "\u001b[1;36m  File \u001b[1;32m\"<tokenize>\"\u001b[1;36m, line \u001b[1;32m7\u001b[0m\n\u001b[1;33m    Ordered by: cumulative time\u001b[0m\n\u001b[1;37m    ^\u001b[0m\n\u001b[1;31mIndentationError\u001b[0m\u001b[1;31m:\u001b[0m unindent does not match any outer indentation level\n"
     ]
    }
   ],
   "source": [
    "~# python3 -m cProfile -s cumulative julia1_nopil.py\n",
    "Length of x: 1000\n",
    "Total elements: 1000000\n",
    "calculate_z_serial_purepython took 7.267011880874634 seconds\n",
    "         36221995 function calls in 7.703 seconds\n",
    "\n",
    "   Ordered by: cumulative time\n",
    "\n",
    "   ncalls  tottime  percall  cumtime  percall filename:lineno(function)\n",
    "        1    0.000    0.000    7.703    7.703 {built-in method builtins.exec}\n",
    "        1    0.026    0.026    7.703    7.703 julia1_nopil.py:1(<module>)\n",
    "        1    0.321    0.321    7.677    7.677 julia1_nopil.py:23(calc_pure_python)\n",
    "        1    5.299    5.299    7.267    7.267 julia1_nopil.py:9(calculate_z_serial_purepython)\n",
    " 34219980    1.968    0.000    1.968    0.000 {built-in method builtins.abs}\n",
    "  2002000    0.085    0.000    0.085    0.000 {method 'append' of 'list' objects}\n",
    "        1    0.004    0.004    0.004    0.004 {built-in method builtins.sum}\n",
    "        3    0.000    0.000    0.000    0.000 {built-in method builtins.print}\n",
    "        4    0.000    0.000    0.000    0.000 {built-in method builtins.len}\n",
    "        2    0.000    0.000    0.000    0.000 {built-in method time.time}\n",
    "        1    0.000    0.000    0.000    0.000 {method 'disable' of '_lsprof.Profiler' objects}"
   ]
  },
  {
   "cell_type": "markdown",
   "id": "3c71799d",
   "metadata": {},
   "source": [
    "커맨드라인에 다음을 입력하면 profile.stats이라는 통계 파일이 생성된다.  \n",
    "<span style=\"font-family: monospace\">~# python3 -m cProfile -o profile.stats julia1_nopil.py</span>"
   ]
  },
  {
   "cell_type": "code",
   "execution_count": 4,
   "id": "f126b6cf",
   "metadata": {},
   "outputs": [],
   "source": [
    "import pstats\n",
    "p = pstats.Stats(\"profile.stats\")"
   ]
  },
  {
   "cell_type": "code",
   "execution_count": 5,
   "id": "1e080f94",
   "metadata": {},
   "outputs": [
    {
     "data": {
      "text/plain": [
       "<pstats.Stats at 0x207c5233f10>"
      ]
     },
     "execution_count": 5,
     "metadata": {},
     "output_type": "execute_result"
    }
   ],
   "source": [
    "p.sort_stats(\"cumulative\")"
   ]
  },
  {
   "cell_type": "code",
   "execution_count": 6,
   "id": "2a81df76",
   "metadata": {},
   "outputs": [
    {
     "name": "stdout",
     "output_type": "stream",
     "text": [
      "Mon Feb  7 13:51:51 2022    profile.stats\n",
      "\n",
      "         36221995 function calls in 7.761 seconds\n",
      "\n",
      "   Ordered by: cumulative time\n",
      "\n",
      "   ncalls  tottime  percall  cumtime  percall filename:lineno(function)\n",
      "        1    0.000    0.000    7.761    7.761 {built-in method builtins.exec}\n",
      "        1    0.026    0.026    7.761    7.761 julia1_nopil.py:1(<module>)\n",
      "        1    0.333    0.333    7.736    7.736 julia1_nopil.py:23(calc_pure_python)\n",
      "        1    5.339    5.339    7.316    7.316 julia1_nopil.py:9(calculate_z_serial_purepython)\n",
      " 34219980    1.977    0.000    1.977    0.000 {built-in method builtins.abs}\n",
      "  2002000    0.082    0.000    0.082    0.000 {method 'append' of 'list' objects}\n",
      "        1    0.004    0.004    0.004    0.004 {built-in method builtins.sum}\n",
      "        3    0.000    0.000    0.000    0.000 {built-in method builtins.print}\n",
      "        4    0.000    0.000    0.000    0.000 {built-in method builtins.len}\n",
      "        2    0.000    0.000    0.000    0.000 {built-in method time.time}\n",
      "        1    0.000    0.000    0.000    0.000 {method 'disable' of '_lsprof.Profiler' objects}\n",
      "\n",
      "\n"
     ]
    },
    {
     "data": {
      "text/plain": [
       "<pstats.Stats at 0x207c5233f10>"
      ]
     },
     "execution_count": 6,
     "metadata": {},
     "output_type": "execute_result"
    }
   ],
   "source": [
    "p.print_stats()"
   ]
  },
  {
   "cell_type": "code",
   "execution_count": 9,
   "id": "da790c8c",
   "metadata": {},
   "outputs": [
    {
     "name": "stdout",
     "output_type": "stream",
     "text": [
      "   Ordered by: cumulative time\n",
      "\n",
      "Function                                          was called by...\n",
      "                                                      ncalls  tottime  cumtime\n",
      "{built-in method builtins.exec}                   <- \n",
      "julia1_nopil.py:1(<module>)                       <-       1    0.026    7.761  {built-in method builtins.exec}\n",
      "julia1_nopil.py:23(calc_pure_python)              <-       1    0.333    7.736  julia1_nopil.py:1(<module>)\n",
      "julia1_nopil.py:9(calculate_z_serial_purepython)  <-       1    5.339    7.316  julia1_nopil.py:23(calc_pure_python)\n",
      "{built-in method builtins.abs}                    <- 34219980    1.977    1.977  julia1_nopil.py:9(calculate_z_serial_purepython)\n",
      "{method 'append' of 'list' objects}               <- 2002000    0.082    0.082  julia1_nopil.py:23(calc_pure_python)\n",
      "{built-in method builtins.sum}                    <-       1    0.004    0.004  julia1_nopil.py:23(calc_pure_python)\n",
      "{built-in method builtins.print}                  <-       3    0.000    0.000  julia1_nopil.py:23(calc_pure_python)\n",
      "{built-in method builtins.len}                    <-       2    0.000    0.000  julia1_nopil.py:9(calculate_z_serial_purepython)\n",
      "                                                           2    0.000    0.000  julia1_nopil.py:23(calc_pure_python)\n",
      "{built-in method time.time}                       <-       2    0.000    0.000  julia1_nopil.py:23(calc_pure_python)\n",
      "{method 'disable' of '_lsprof.Profiler' objects}  <- \n",
      "\n",
      "\n"
     ]
    },
    {
     "data": {
      "text/plain": [
       "<pstats.Stats at 0x207c5233f10>"
      ]
     },
     "execution_count": 9,
     "metadata": {},
     "output_type": "execute_result"
    }
   ],
   "source": [
    "p.print_callers()"
   ]
  },
  {
   "cell_type": "code",
   "execution_count": 10,
   "id": "364d7d84",
   "metadata": {},
   "outputs": [
    {
     "name": "stdout",
     "output_type": "stream",
     "text": [
      "   Ordered by: cumulative time\n",
      "\n",
      "Function                                          called...\n",
      "                                                      ncalls  tottime  cumtime\n",
      "{built-in method builtins.exec}                   ->       1    0.026    7.761  julia1_nopil.py:1(<module>)\n",
      "julia1_nopil.py:1(<module>)                       ->       1    0.333    7.736  julia1_nopil.py:23(calc_pure_python)\n",
      "julia1_nopil.py:23(calc_pure_python)              ->       1    5.339    7.316  julia1_nopil.py:9(calculate_z_serial_purepython)\n",
      "                                                           2    0.000    0.000  {built-in method builtins.len}\n",
      "                                                           3    0.000    0.000  {built-in method builtins.print}\n",
      "                                                           1    0.004    0.004  {built-in method builtins.sum}\n",
      "                                                           2    0.000    0.000  {built-in method time.time}\n",
      "                                                     2002000    0.082    0.082  {method 'append' of 'list' objects}\n",
      "julia1_nopil.py:9(calculate_z_serial_purepython)  -> 34219980    1.977    1.977  {built-in method builtins.abs}\n",
      "                                                           2    0.000    0.000  {built-in method builtins.len}\n",
      "{built-in method builtins.abs}                    -> \n",
      "{method 'append' of 'list' objects}               -> \n",
      "{built-in method builtins.sum}                    -> \n",
      "{built-in method builtins.print}                  -> \n",
      "{built-in method builtins.len}                    -> \n",
      "{built-in method time.time}                       -> \n",
      "{method 'disable' of '_lsprof.Profiler' objects}  -> \n",
      "\n",
      "\n"
     ]
    },
    {
     "data": {
      "text/plain": [
       "<pstats.Stats at 0x207c5233f10>"
      ]
     },
     "execution_count": 10,
     "metadata": {},
     "output_type": "execute_result"
    }
   ],
   "source": [
    "p.print_callees()"
   ]
  },
  {
   "cell_type": "markdown",
   "id": "d64228a4",
   "metadata": {},
   "source": [
    "## 2.7 SnakeViz로 cProfile 결과 시각화하기"
   ]
  },
  {
   "cell_type": "markdown",
   "id": "7e89dc83",
   "metadata": {},
   "source": [
    "<span style=\"font-family: monospace\">~# pip install snakeviz<br>\n",
    "~# python3 -m snakeviz profile.stats</span>"
   ]
  },
  {
   "cell_type": "markdown",
   "id": "94f14cf5",
   "metadata": {},
   "source": [
    "![profile](./profile.png)"
   ]
  },
  {
   "cell_type": "markdown",
   "id": "8d511ca2",
   "metadata": {},
   "source": [
    "## 2.8 line_profiler로 한 줄씩 측정하기"
   ]
  },
  {
   "cell_type": "markdown",
   "id": "1c651d1f",
   "metadata": {},
   "source": [
    "**예제 2-6** kernprof를 사용해 프로파일해서 각 줄의 CPU 비용 기록하기  \n",
    "<span style=\"font-family: monospace\">~# pip install line_profiler<br>\n",
    "~# kernprof -l -v julia1_lineprofiler.py</span>"
   ]
  },
  {
   "cell_type": "code",
   "execution_count": null,
   "id": "f999808b",
   "metadata": {},
   "outputs": [],
   "source": [
    "Length of x: 1000\n",
    "Total elements: 1000000\n",
    "calculate_z_serial_purepython took 59.30600833892822 seconds\n",
    "Wrote profile results to julia1_lineprofiler.py.lprof\n",
    "Timer unit: 1e-06 s\n",
    "\n",
    "Total time: 33.2728 s\n",
    "File: julia1_lineprofiler.py\n",
    "Function: calculate_z_serial_purepython at line 9\n",
    "\n",
    "Line #      Hits         Time  Per Hit   % Time  Line Contents\n",
    "==============================================================\n",
    "     9                                           @profile\n",
    "    10                                           def calculate_z_serial_purepython(maxiter, zs, cs):\n",
    "    11                                               \"\"\"Calculate output list using Julia update rule\"\"\"\n",
    "    12         1       1716.0   1716.0      0.0      output = [0] * len(zs)\n",
    "    13   1000001     265213.0      0.3      0.8      for i in range(len(zs)):\n",
    "    14   1000000     247479.0      0.2      0.7          n = 0\n",
    "    15   1000000     285812.0      0.3      0.9          z = zs[i]\n",
    "    16   1000000     267809.0      0.3      0.8          c = cs[i]\n",
    "    17  34219980   12569481.0      0.4     37.8          while abs(z) < 2 and n < maxiter:\n",
    "    18  33219980   10285877.0      0.3     30.9              z = z * z + c\n",
    "    19  33219980    9063279.0      0.3     27.2              n += 1\n",
    "    20   1000000     286160.0      0.3      0.9          output[i] = n\n",
    "    21         1          1.0      1.0      0.0      return output"
   ]
  },
  {
   "cell_type": "markdown",
   "id": "9fea37d6",
   "metadata": {},
   "source": [
    "**예제 2-7** while 문을 나눠서 각각의 소요 시간 측정하기  \n",
    "<span style=\"font-family: monospace\">~# kernprof -l -v julia1_lineprofiler2.py</span>"
   ]
  },
  {
   "cell_type": "code",
   "execution_count": null,
   "id": "8f97e39b",
   "metadata": {},
   "outputs": [],
   "source": [
    "Length of x: 1000\n",
    "Total elements: 1000000\n",
    "calculate_z_serial_purepython took 96.45154166221619 seconds\n",
    "Wrote profile results to julia1_lineprofiler2.py.lprof\n",
    "Timer unit: 1e-06 s\n",
    "\n",
    "Total time: 51.9761 s\n",
    "File: julia1_lineprofiler2.py\n",
    "Function: calculate_z_serial_purepython at line 9\n",
    "\n",
    "Line #      Hits         Time  Per Hit   % Time  Line Contents\n",
    "==============================================================\n",
    "     9                                           @profile\n",
    "    10                                           def calculate_z_serial_purepython(maxiter, zs, cs):\n",
    "    11                                               \"\"\"Calculate output list using Julia update rule\"\"\"\n",
    "    12         1       1185.0   1185.0      0.0      output = [0] * len(zs)\n",
    "    13   1000001     272612.0      0.3      0.5      for i in range(len(zs)):\n",
    "    14   1000000     263183.0      0.3      0.5          n = 0\n",
    "    15   1000000     292065.0      0.3      0.6          z = zs[i]\n",
    "    16   1000000     273171.0      0.3      0.5          c = cs[i]\n",
    "    17                                                   while True:\n",
    "    18  34219980   11745605.0      0.3     22.6              not_yet_escaped = abs(z) < 2\n",
    "    19  34219980    9680679.0      0.3     18.6              iterations_left = n < maxiter\n",
    "    20  34219980    9177336.0      0.3     17.7              if not_yet_escaped and iterations_left:\n",
    "    21  33219980   10740037.0      0.3     20.7                  z = z * z + c\n",
    "    22  33219980    9243374.0      0.3     17.8                  n += 1\n",
    "    23                                                       else:\n",
    "    24                                                           break\n",
    "    25   1000000     286884.0      0.3      0.6          output[i] = n\n",
    "    26         1          1.0      1.0      0.0      return output\n",
    "\n",
    "Total time: 98.0547 s\n",
    "File: julia1_lineprofiler2.py\n",
    "Function: calc_pure_python at line 29\n",
    "\n",
    "Line #      Hits         Time  Per Hit   % Time  Line Contents\n",
    "==============================================================\n",
    "    29                                           @profile\n",
    "    30                                           def calc_pure_python(draw_output, desired_width, max_iterations):\n",
    "    31                                               \"\"\"Create a list of complex co-ordinates (zs) and complex parameters (cs), build Julia set and display\"\"\"\n",
    "    32         1          3.0      3.0      0.0      x_step = (x2 - x1) / desired_width\n",
    "    33         1          1.0      1.0      0.0      y_step = (y1 - y2) / desired_width\n",
    "    34         1          1.0      1.0      0.0      x = []\n",
    "    35         1          0.0      0.0      0.0      y = []\n",
    "    36         1          0.0      0.0      0.0      ycoord = y2\n",
    "    37      1001        423.0      0.4      0.0      while ycoord > y1:\n",
    "    38      1000        378.0      0.4      0.0          y.append(ycoord)\n",
    "    39      1000        404.0      0.4      0.0          ycoord += y_step\n",
    "    40         1          1.0      1.0      0.0      xcoord = x1\n",
    "    41      1001        410.0      0.4      0.0      while xcoord < x2:\n",
    "    42      1000        421.0      0.4      0.0          x.append(xcoord)\n",
    "    43      1000        384.0      0.4      0.0          xcoord += x_step\n",
    "    44                                               # set width and height to the generated pixel counts, rather than the\n",
    "    45                                               # pre-rounding desired width and height\n",
    "    46                                               # build a list of co-ordinates and the initial condition for each cell.\n",
    "    47                                               # Note that our initial condition is a constant and could easily be removed,\n",
    "    48                                               # we use it to simulate a real-world scenario with several inputs to our function\n",
    "    49         1          0.0      0.0      0.0      zs = []\n",
    "    50         1          0.0      0.0      0.0      cs = []\n",
    "    51      1001        541.0      0.5      0.0      for ycoord in y:\n",
    "    52   1001000     439254.0      0.4      0.4          for xcoord in x:\n",
    "    53   1000000     575411.0      0.6      0.6              zs.append(complex(xcoord, ycoord))\n",
    "    54   1000000     581696.0      0.6      0.6              cs.append(complex(c_real, c_imag))\n",
    "    55\n",
    "    56         1        105.0    105.0      0.0      print(\"Length of x:\", len(x))\n",
    "    57         1          8.0      8.0      0.0      print(\"Total elements:\", len(zs))\n",
    "    58         1          6.0      6.0      0.0      start_time = time.time()\n",
    "    59         1   96451531.0 96451531.0     98.4      output = calculate_z_serial_purepython(max_iterations, zs, cs)\n",
    "    60         1          4.0      4.0      0.0      end_time = time.time()\n",
    "    61         1          1.0      1.0      0.0      secs = end_time - start_time\n",
    "    62         1         72.0     72.0      0.0      print(calculate_z_serial_purepython.__name__ + \" took\", secs, \"seconds\")\n",
    "    63\n",
    "    64         1       3598.0   3598.0      0.0      assert sum(output) == 33219980  # this sum is expected for 1000^2 grid with 300 iterations"
   ]
  },
  {
   "cell_type": "markdown",
   "id": "975b00a0",
   "metadata": {},
   "source": [
    "timeit으로 각 명령의 개별비용 검사"
   ]
  },
  {
   "cell_type": "code",
   "execution_count": 5,
   "id": "deb0def3",
   "metadata": {},
   "outputs": [],
   "source": [
    "z = 0 + 0j"
   ]
  },
  {
   "cell_type": "code",
   "execution_count": 6,
   "id": "0b646a14",
   "metadata": {},
   "outputs": [
    {
     "name": "stdout",
     "output_type": "stream",
     "text": [
      "118 ns ± 2.44 ns per loop (mean ± std. dev. of 7 runs, 10000000 loops each)\n"
     ]
    }
   ],
   "source": [
    "%timeit abs(z) < 2"
   ]
  },
  {
   "cell_type": "code",
   "execution_count": 8,
   "id": "b8a695a9",
   "metadata": {},
   "outputs": [],
   "source": [
    "n = 1\n",
    "maxiter = 300"
   ]
  },
  {
   "cell_type": "code",
   "execution_count": 9,
   "id": "9ea2a526",
   "metadata": {},
   "outputs": [
    {
     "name": "stdout",
     "output_type": "stream",
     "text": [
      "62.6 ns ± 1.64 ns per loop (mean ± std. dev. of 7 runs, 10000000 loops each)\n"
     ]
    }
   ],
   "source": [
    "%timeit n < maxiter"
   ]
  },
  {
   "cell_type": "markdown",
   "id": "70b3912d",
   "metadata": {},
   "source": [
    "**예제 2-8** while 문의 조건 검사 순서를 바꿔 실행 속도를 약간 개선함  \n",
    "<span style=\"font-family: monospace\">~# kernprof -l -v julia1_lineprofiler3.py</span>"
   ]
  },
  {
   "cell_type": "code",
   "execution_count": null,
   "id": "ee5854ed",
   "metadata": {},
   "outputs": [],
   "source": [
    "Length of x: 1000\n",
    "Total elements: 1000000\n",
    "calculate_z_serial_purepython took 62.51071810722351 seconds\n",
    "Wrote profile results to julia1_lineprofiler3.py.lprof\n",
    "Timer unit: 1e-06 s\n",
    "\n",
    "Total time: 35.441 s\n",
    "File: julia1_lineprofiler3.py\n",
    "Function: calculate_z_serial_purepython at line 9\n",
    "\n",
    "Line #      Hits         Time  Per Hit   % Time  Line Contents\n",
    "==============================================================\n",
    "     9                                           @profile\n",
    "    10                                           def calculate_z_serial_purepython(maxiter, zs, cs):\n",
    "    11                                               \"\"\"Calculate output list using Julia update rule\"\"\"\n",
    "    12         1       1383.0   1383.0      0.0      output = [0] * len(zs)\n",
    "    13   1000001     291720.0      0.3      0.8      for i in range(len(zs)):\n",
    "    14   1000000     261582.0      0.3      0.7          n = 0\n",
    "    15   1000000     299939.0      0.3      0.8          z = zs[i]\n",
    "    16   1000000     283320.0      0.3      0.8          c = cs[i]\n",
    "    17  34219980   13466685.0      0.4     38.0          while n < maxiter and abs(z) < 2:\n",
    "    18  33219980   10839830.0      0.3     30.6              z = z * z + c\n",
    "    19  33219980    9686317.0      0.3     27.3              n += 1\n",
    "    20   1000000     310269.0      0.3      0.9          output[i] = n\n",
    "    21         1          1.0      1.0      0.0      return output"
   ]
  },
  {
   "cell_type": "markdown",
   "id": "44153da4",
   "metadata": {},
   "source": [
    "**예제 2-9** 설정 코드의 비용을 줄 단위로 테스트하기"
   ]
  },
  {
   "cell_type": "code",
   "execution_count": null,
   "id": "b588bfe0",
   "metadata": {},
   "outputs": [],
   "source": [
    "Total time: 63.9461 s\n",
    "File: julia1_lineprofiler3.py\n",
    "Function: calc_pure_python at line 24\n",
    "\n",
    "Line #      Hits         Time  Per Hit   % Time  Line Contents\n",
    "==============================================================\n",
    "    24                                           @profile\n",
    "    25                                           def calc_pure_python(draw_output, desired_width, max_iterations):\n",
    "    26                                               \"\"\"Create a list of complex co-ordinates (zs) and complex parameters (cs), build Julia set and display\"\"\"\n",
    "    27         1          3.0      3.0      0.0      x_step = (x2 - x1) / desired_width\n",
    "    28         1          0.0      0.0      0.0      y_step = (y1 - y2) / desired_width\n",
    "    29         1          0.0      0.0      0.0      x = []\n",
    "    30         1          0.0      0.0      0.0      y = []\n",
    "    31         1          1.0      1.0      0.0      ycoord = y2\n",
    "    32      1001        452.0      0.5      0.0      while ycoord > y1:\n",
    "    33      1000        402.0      0.4      0.0          y.append(ycoord)\n",
    "    34      1000        430.0      0.4      0.0          ycoord += y_step\n",
    "    35         1          0.0      0.0      0.0      xcoord = x1\n",
    "    36      1001        457.0      0.5      0.0      while xcoord < x2:\n",
    "    37      1000        448.0      0.4      0.0          x.append(xcoord)\n",
    "    38      1000        444.0      0.4      0.0          xcoord += x_step\n",
    "    39                                               # set width and height to the generated pixel counts, rather than the\n",
    "    40                                               # pre-rounding desired width and height\n",
    "    41                                               # build a list of co-ordinates and the initial condition for each cell.\n",
    "    42                                               # Note that our initial condition is a constant and could easily be removed,\n",
    "    43                                               # we use it to simulate a real-world scenario with several inputs to our function\n",
    "    44         1          0.0      0.0      0.0      zs = []\n",
    "    45         1          1.0      1.0      0.0      cs = []\n",
    "    46      1001        459.0      0.5      0.0      for ycoord in y:\n",
    "    47   1001000     391292.0      0.4      0.6          for xcoord in x:\n",
    "    48   1000000     510770.0      0.5      0.8              zs.append(complex(xcoord, ycoord))\n",
    "    49   1000000     526604.0      0.5      0.8              cs.append(complex(c_real, c_imag))\n",
    "    50\n",
    "    51         1         59.0     59.0      0.0      print(\"Length of x:\", len(x))\n",
    "    52         1          6.0      6.0      0.0      print(\"Total elements:\", len(zs))\n",
    "    53         1          4.0      4.0      0.0      start_time = time.time()\n",
    "    54         1   62510708.0 62510708.0     97.8      output = calculate_z_serial_purepython(max_iterations, zs, cs)\n",
    "    55         1          5.0      5.0      0.0      end_time = time.time()\n",
    "    56         1          1.0      1.0      0.0      secs = end_time - start_time\n",
    "    57         1         79.0     79.0      0.0      print(calculate_z_serial_purepython.__name__ + \" took\", secs, \"seconds\")\n",
    "    58\n",
    "    59         1       3513.0   3513.0      0.0      assert sum(output) == 33219980  # this sum is expected for 1000^2 grid with 300 iterations"
   ]
  },
  {
   "cell_type": "markdown",
   "id": "5dbcc8c3",
   "metadata": {},
   "source": [
    "## 2.9 memory_profiler로 메모리 사용량 진단하기"
   ]
  },
  {
   "cell_type": "markdown",
   "id": "3ab8cbc6",
   "metadata": {},
   "source": [
    "메모리를 프로파일하면 코드의 실행속도는 평소보다 10배에서 100배까지 느려진다. 보통 memory_profiler보다 line_profiler를 더 자주 사용한다.  \n",
    "  \n",
    "<span style=\"font-family: monospace\">~# pip install memory_profiler<br>\n",
    "~# pip install psutil</span>"
   ]
  },
  {
   "cell_type": "markdown",
   "id": "cedb9184",
   "metadata": {},
   "source": [
    "**예제 2-10** calculate_z_serial_purepython에서 예상치 못한 메모리 사용을 보여주는 memory_profiler의 결과  \n",
    "(2시간이나 걸린다고 하니 그냥 책을 보자...)"
   ]
  },
  {
   "cell_type": "code",
   "execution_count": 10,
   "id": "33cd61ee",
   "metadata": {},
   "outputs": [
    {
     "name": "stdout",
     "output_type": "stream",
     "text": [
      "Collecting memory_profiler\n",
      "  Downloading memory_profiler-0.60.0.tar.gz (38 kB)\n",
      "Requirement already satisfied: psutil in c:\\users\\dydzm\\anaconda3\\lib\\site-packages (from memory_profiler) (5.8.0)\n",
      "Building wheels for collected packages: memory-profiler\n",
      "  Building wheel for memory-profiler (setup.py): started\n",
      "  Building wheel for memory-profiler (setup.py): finished with status 'done'\n",
      "  Created wheel for memory-profiler: filename=memory_profiler-0.60.0-py3-none-any.whl size=31276 sha256=b669e12175626a5c47537ebccda570f24e4a32189f1eea6a7b5afaf9bb9581d6\n",
      "  Stored in directory: c:\\users\\dydzm\\appdata\\local\\pip\\cache\\wheels\\01\\ca\\8b\\b518dd2aef69635ad6fcab87069c9c52f355a2e9c5d4c02da9\n",
      "Successfully built memory-profiler\n",
      "Installing collected packages: memory-profiler\n",
      "Successfully installed memory-profiler-0.60.0\n",
      "Note: you may need to restart the kernel to use updated packages.\n"
     ]
    }
   ],
   "source": [
    "pip install memory_profiler"
   ]
  },
  {
   "cell_type": "code",
   "execution_count": 11,
   "id": "b79ccdee",
   "metadata": {},
   "outputs": [
    {
     "name": "stdout",
     "output_type": "stream",
     "text": [
      "Requirement already satisfied: psutil in c:\\users\\dydzm\\anaconda3\\lib\\site-packages (5.8.0)\n",
      "Note: you may need to restart the kernel to use updated packages.\n"
     ]
    }
   ],
   "source": [
    "pip install psutil"
   ]
  },
  {
   "cell_type": "markdown",
   "id": "287a83e5",
   "metadata": {},
   "source": [
    "**그림 2-6** mprof를 이용한 memory_profiler 그래프"
   ]
  },
  {
   "cell_type": "code",
   "execution_count": 11,
   "id": "e998cc29",
   "metadata": {},
   "outputs": [],
   "source": [
    "from subprocess import call"
   ]
  },
  {
   "cell_type": "code",
   "execution_count": 24,
   "id": "087164c0",
   "metadata": {},
   "outputs": [
    {
     "data": {
      "text/plain": [
       "0"
      ]
     },
     "execution_count": 24,
     "metadata": {},
     "output_type": "execute_result"
    }
   ],
   "source": [
    "call([\"mprof\", \"run\", \"julia1_memoryprofiler1.py\"])\n",
    "call([\"mprof\", \"plot\", \"-o\", \"mprof1.png\"])"
   ]
  },
  {
   "cell_type": "markdown",
   "id": "92aebe7d",
   "metadata": {},
   "source": [
    "![mprof1](./mprof1.png)"
   ]
  },
  {
   "cell_type": "markdown",
   "id": "35eb8cdd",
   "metadata": {},
   "source": [
    "**예제 2-11** 컨텍스트 관리자를 사용해서 mprof 그래프에 라벨 추가하기"
   ]
  },
  {
   "cell_type": "code",
   "execution_count": null,
   "id": "f1cf3011",
   "metadata": {},
   "outputs": [],
   "source": [
    "@profile\n",
    "def calculate_z_serial_purepython(maxiter, zs, cs):\n",
    "    \"\"\"Calculate output list using Julia update rule\"\"\"\n",
    "    with profile.timestamp(\"create_output_list\"):\n",
    "        output = [0] * len(zs)\n",
    "    time.sleep(1)\n",
    "    with profile.timestamp(\"calculate_output\"):\n",
    "        for i in range(len(zs)):\n",
    "            n = 0\n",
    "            z = zs[i]\n",
    "            c = cs[i]\n",
    "            while n < maxiter and abs(z) < 2:\n",
    "                z = z * z + c\n",
    "                n += 1\n",
    "            output[i] = n\n",
    "    return output"
   ]
  },
  {
   "cell_type": "markdown",
   "id": "fb70e8c3",
   "metadata": {},
   "source": [
    "**그림 2-7** 라벨과 mprof를 함께 이용한 memory_profiler 리포트"
   ]
  },
  {
   "cell_type": "code",
   "execution_count": 25,
   "id": "4446715d",
   "metadata": {},
   "outputs": [
    {
     "data": {
      "text/plain": [
       "0"
      ]
     },
     "execution_count": 25,
     "metadata": {},
     "output_type": "execute_result"
    }
   ],
   "source": [
    "# julia1_memoryprofiler.py를 위와 같이 수정한 후 다음을 실행\n",
    "call([\"mprof\", \"run\", \"julia1_memoryprofiler2.py\"])\n",
    "call([\"mprof\", \"plot\", \"-o\", \"mprof2.png\"])"
   ]
  },
  {
   "cell_type": "markdown",
   "id": "38680446",
   "metadata": {},
   "source": [
    "![mprof2](./mprof2.png)"
   ]
  },
  {
   "cell_type": "markdown",
   "id": "94cf7bf5",
   "metadata": {},
   "source": [
    "**예제 2-12** 복소수 좌표를 즉시 만들어 RAM을 절약하기"
   ]
  },
  {
   "cell_type": "code",
   "execution_count": null,
   "id": "b9c3f595",
   "metadata": {},
   "outputs": [],
   "source": [
    "@profile\n",
    "def calculate_z_serial_purepython(maxiter, x, y):\n",
    "    \"\"\"Calculate output list using Julia update rule\"\"\"\n",
    "    output = []\n",
    "    for ycoord in y:\n",
    "        for xcoord in x:\n",
    "            z = complex(xcoord, ycoord)\n",
    "            c = complex(c_real, c_imga)\n",
    "            n = 0\n",
    "            while n < maxiter and abs(z) < 2:\n",
    "                z = z * z + c\n",
    "                n += 1\n",
    "            output.append(n)\n",
    "    return output"
   ]
  },
  {
   "cell_type": "markdown",
   "id": "37566be4",
   "metadata": {},
   "source": [
    "**그림 2-8** 큰 리스트를 2개 없애 다음의 memory_profiler 리포트  "
   ]
  },
  {
   "cell_type": "code",
   "execution_count": 4,
   "id": "4e2df07f",
   "metadata": {},
   "outputs": [
    {
     "data": {
      "text/plain": [
       "0"
      ]
     },
     "execution_count": 4,
     "metadata": {},
     "output_type": "execute_result"
    }
   ],
   "source": [
    "# julia1_memoryprofiler.py를 위와 같이 수정한 후 다음을 실행\n",
    "call([\"mprof\", \"run\", \"julia1_memoryprofiler3.py\"])\n",
    "call([\"mprof\", \"plot\", \"-o\", \"mprof3.png\"])"
   ]
  },
  {
   "cell_type": "markdown",
   "id": "9ef6f7cf",
   "metadata": {},
   "source": [
    "![mprof3](./mprof3.png)"
   ]
  },
  {
   "cell_type": "code",
   "execution_count": 4,
   "id": "d23c1ae5",
   "metadata": {},
   "outputs": [
    {
     "name": "stdout",
     "output_type": "stream",
     "text": [
      "The memory_profiler extension is already loaded. To reload it, use:\n",
      "  %reload_ext memory_profiler\n",
      "Length of x: 1000\n",
      "Total elements: 1000000\n",
      "calculate_z_serial_purepython took 8.327255487442017 seconds\n",
      "300.0\n",
      "peak memory: 73.70 MiB, increment: 20.07 MiB\n",
      "Length of x: 1000\n",
      "Total elements: 1000000\n",
      "calculate_z_serial_purepython took 8.682730674743652 seconds\n",
      "300.0\n",
      "peak memory: 73.74 MiB, increment: 19.99 MiB\n",
      "Length of x: 1000\n",
      "Total elements: 1000000\n",
      "calculate_z_serial_purepython took 8.599271297454834 seconds\n",
      "300.0\n",
      "peak memory: 73.71 MiB, increment: 19.96 MiB\n",
      "Length of x: 1000\n",
      "Total elements: 1000000\n",
      "calculate_z_serial_purepython took 9.022754669189453 seconds\n",
      "300.0\n",
      "peak memory: 73.70 MiB, increment: 19.94 MiB\n",
      "Length of x: 1000\n",
      "Total elements: 1000000\n",
      "calculate_z_serial_purepython took 8.990012407302856 seconds\n",
      "300.0\n",
      "peak memory: 73.71 MiB, increment: 19.96 MiB\n",
      "Length of x: 1000\n",
      "Total elements: 1000000\n",
      "calculate_z_serial_purepython took 9.144343137741089 seconds\n",
      "300.0\n",
      "peak memory: 73.71 MiB, increment: 19.95 MiB\n",
      "Length of x: 1000\n",
      "Total elements: 1000000\n",
      "calculate_z_serial_purepython took 8.785153865814209 seconds\n",
      "300.0\n",
      "peak memory: 73.71 MiB, increment: 19.95 MiB\n",
      "Length of x: 1000\n",
      "Total elements: 1000000\n",
      "calculate_z_serial_purepython took 9.51820158958435 seconds\n",
      "300.0\n",
      "peak memory: 73.76 MiB, increment: 19.99 MiB\n",
      "11.9 s ± 364 ms per loop (mean ± std. dev. of 7 runs, 1 loop each)\n"
     ]
    }
   ],
   "source": [
    "import julia2\n",
    "%load_ext memory_profiler\n",
    "%timeit %memit julia2.calc_pure_python(True, desired_width=1000, max_iterations=300)"
   ]
  },
  {
   "cell_type": "markdown",
   "id": "a4aa7fa0",
   "metadata": {},
   "source": [
    "## 2.10 PySpy로 기존 프로세스 살펴보기"
   ]
  },
  {
   "cell_type": "markdown",
   "id": "bb1cf62c",
   "metadata": {},
   "source": [
    "**예제 2-13** 명령줄에서 PySpy 실행하기  \n",
    "(이 친구도 왜 안될까요....? 도와주실분 구함~ help!!)"
   ]
  },
  {
   "cell_type": "markdown",
   "id": "fb6b5b25",
   "metadata": {},
   "source": [
    "## 2.11 바이트코드: 내부 작동"
   ]
  },
  {
   "cell_type": "markdown",
   "id": "7925db63",
   "metadata": {},
   "source": [
    "**예제 2-14** dis 모듈로 스택 기반의 가상 머신 작동 방식 살펴보기"
   ]
  },
  {
   "cell_type": "code",
   "execution_count": 1,
   "id": "4c049b69",
   "metadata": {},
   "outputs": [],
   "source": [
    "import dis"
   ]
  },
  {
   "cell_type": "code",
   "execution_count": 2,
   "id": "da28f203",
   "metadata": {},
   "outputs": [],
   "source": [
    "import julia1_nopil"
   ]
  },
  {
   "cell_type": "code",
   "execution_count": 4,
   "id": "5f4704e6",
   "metadata": {},
   "outputs": [
    {
     "name": "stdout",
     "output_type": "stream",
     "text": [
      " 11           0 LOAD_CONST               1 (0)\n",
      "              2 BUILD_LIST               1\n",
      "              4 LOAD_GLOBAL              0 (len)\n",
      "              6 LOAD_FAST                1 (zs)\n",
      "              8 CALL_FUNCTION            1\n",
      "             10 BINARY_MULTIPLY\n",
      "             12 STORE_FAST               3 (output)\n",
      "\n",
      " 12          14 LOAD_GLOBAL              1 (range)\n",
      "             16 LOAD_GLOBAL              0 (len)\n",
      "             18 LOAD_FAST                1 (zs)\n",
      "             20 CALL_FUNCTION            1\n",
      "             22 CALL_FUNCTION            1\n",
      "             24 GET_ITER\n",
      "        >>   26 FOR_ITER                74 (to 102)\n",
      "             28 STORE_FAST               4 (i)\n",
      "\n",
      " 13          30 LOAD_CONST               1 (0)\n",
      "             32 STORE_FAST               5 (n)\n",
      "\n",
      " 14          34 LOAD_FAST                1 (zs)\n",
      "             36 LOAD_FAST                4 (i)\n",
      "             38 BINARY_SUBSCR\n",
      "             40 STORE_FAST               6 (z)\n",
      "\n",
      " 15          42 LOAD_FAST                2 (cs)\n",
      "             44 LOAD_FAST                4 (i)\n",
      "             46 BINARY_SUBSCR\n",
      "             48 STORE_FAST               7 (c)\n",
      "\n",
      " 16     >>   50 LOAD_GLOBAL              2 (abs)\n",
      "             52 LOAD_FAST                6 (z)\n",
      "             54 CALL_FUNCTION            1\n",
      "             56 LOAD_CONST               2 (2)\n",
      "             58 COMPARE_OP               0 (<)\n",
      "             60 POP_JUMP_IF_FALSE       92\n",
      "             62 LOAD_FAST                5 (n)\n",
      "             64 LOAD_FAST                0 (maxiter)\n",
      "             66 COMPARE_OP               0 (<)\n",
      "             68 POP_JUMP_IF_FALSE       92\n",
      "\n",
      " 17          70 LOAD_FAST                6 (z)\n",
      "             72 LOAD_FAST                6 (z)\n",
      "             74 BINARY_MULTIPLY\n",
      "             76 LOAD_FAST                7 (c)\n",
      "             78 BINARY_ADD\n",
      "             80 STORE_FAST               6 (z)\n",
      "\n",
      " 18          82 LOAD_FAST                5 (n)\n",
      "             84 LOAD_CONST               3 (1)\n",
      "             86 INPLACE_ADD\n",
      "             88 STORE_FAST               5 (n)\n",
      "             90 JUMP_ABSOLUTE           50\n",
      "\n",
      " 19     >>   92 LOAD_FAST                5 (n)\n",
      "             94 LOAD_FAST                3 (output)\n",
      "             96 LOAD_FAST                4 (i)\n",
      "             98 STORE_SUBSCR\n",
      "            100 JUMP_ABSOLUTE           26\n",
      "\n",
      " 20     >>  102 LOAD_FAST                3 (output)\n",
      "            104 RETURN_VALUE\n"
     ]
    }
   ],
   "source": [
    "dis.dis(julia1_nopil.calculate_z_serial_purepython)"
   ]
  },
  {
   "cell_type": "markdown",
   "id": "367e7548",
   "metadata": {},
   "source": [
    "**예제 2-15** 같은 문제를 해결하는 효율적인 방법과 그렇지 않은 방법"
   ]
  },
  {
   "cell_type": "code",
   "execution_count": 5,
   "id": "eecdc6c0",
   "metadata": {},
   "outputs": [],
   "source": [
    "def fn_expressive(upper=1_000_000):\n",
    "    total = 0\n",
    "    for n in range(upper):\n",
    "        total += n\n",
    "    return total\n",
    "\n",
    "def fn_terse(upper=1_000_000):\n",
    "    return sum(range(upper))\n",
    "\n",
    "assert fn_expressive() == fn_terse(), \"Expect identical results from both functions\""
   ]
  },
  {
   "cell_type": "markdown",
   "id": "4fc2ae9f",
   "metadata": {},
   "source": [
    "**예제 2-16** %timeit으로 내장 함수를 사용한 코드가 더 빠를 것이라는 가설 검증"
   ]
  },
  {
   "cell_type": "code",
   "execution_count": 6,
   "id": "5a794b9a",
   "metadata": {},
   "outputs": [
    {
     "name": "stdout",
     "output_type": "stream",
     "text": [
      "79.5 ms ± 4.93 ms per loop (mean ± std. dev. of 7 runs, 10 loops each)\n"
     ]
    }
   ],
   "source": [
    "%timeit fn_expressive()"
   ]
  },
  {
   "cell_type": "code",
   "execution_count": 7,
   "id": "3c6ad9e8",
   "metadata": {},
   "outputs": [
    {
     "name": "stdout",
     "output_type": "stream",
     "text": [
      "45.5 ms ± 2.21 ms per loop (mean ± std. dev. of 7 runs, 10 loops each)\n"
     ]
    }
   ],
   "source": [
    "%timeit fn_terse()"
   ]
  },
  {
   "cell_type": "markdown",
   "id": "c81047f8",
   "metadata": {},
   "source": [
    "**예제 2-17** dis모듈로 두 함수의 바이트코드 명령어 확인하기"
   ]
  },
  {
   "cell_type": "code",
   "execution_count": null,
   "id": "8b28ab5b",
   "metadata": {},
   "outputs": [],
   "source": [
    "import dis"
   ]
  },
  {
   "cell_type": "code",
   "execution_count": 8,
   "id": "35b0438f",
   "metadata": {},
   "outputs": [
    {
     "name": "stdout",
     "output_type": "stream",
     "text": [
      "  2           0 LOAD_CONST               1 (0)\n",
      "              2 STORE_FAST               1 (total)\n",
      "\n",
      "  3           4 LOAD_GLOBAL              0 (range)\n",
      "              6 LOAD_FAST                0 (upper)\n",
      "              8 CALL_FUNCTION            1\n",
      "             10 GET_ITER\n",
      "        >>   12 FOR_ITER                12 (to 26)\n",
      "             14 STORE_FAST               2 (n)\n",
      "\n",
      "  4          16 LOAD_FAST                1 (total)\n",
      "             18 LOAD_FAST                2 (n)\n",
      "             20 INPLACE_ADD\n",
      "             22 STORE_FAST               1 (total)\n",
      "             24 JUMP_ABSOLUTE           12\n",
      "\n",
      "  5     >>   26 LOAD_FAST                1 (total)\n",
      "             28 RETURN_VALUE\n"
     ]
    }
   ],
   "source": [
    "dis.dis(fn_expressive)"
   ]
  },
  {
   "cell_type": "code",
   "execution_count": 9,
   "id": "79c427af",
   "metadata": {},
   "outputs": [
    {
     "name": "stdout",
     "output_type": "stream",
     "text": [
      "  8           0 LOAD_GLOBAL              0 (sum)\n",
      "              2 LOAD_GLOBAL              1 (range)\n",
      "              4 LOAD_FAST                0 (upper)\n",
      "              6 CALL_FUNCTION            1\n",
      "              8 CALL_FUNCTION            1\n",
      "             10 RETURN_VALUE\n"
     ]
    }
   ],
   "source": [
    "dis.dis(fn_terse)"
   ]
  },
  {
   "cell_type": "markdown",
   "id": "7dc80daf",
   "metadata": {},
   "source": [
    "## 2.12 최적화 중에 단위 테스트하기"
   ]
  },
  {
   "cell_type": "markdown",
   "id": "e10dc8a1",
   "metadata": {},
   "source": [
    "**예제 2-18** @profile을 사용할 간단한 함수와 테스트"
   ]
  },
  {
   "cell_type": "code",
   "execution_count": 10,
   "id": "cfe27c3a",
   "metadata": {},
   "outputs": [
    {
     "ename": "NameError",
     "evalue": "name 'profile' is not defined",
     "output_type": "error",
     "traceback": [
      "\u001b[1;31m---------------------------------------------------------------------------\u001b[0m",
      "\u001b[1;31mNameError\u001b[0m                                 Traceback (most recent call last)",
      "\u001b[1;32m<ipython-input-10-83ee8911e461>\u001b[0m in \u001b[0;36m<module>\u001b[1;34m\u001b[0m\n\u001b[0;32m      8\u001b[0m \u001b[1;33m\u001b[0m\u001b[0m\n\u001b[0;32m      9\u001b[0m \u001b[1;33m\u001b[0m\u001b[0m\n\u001b[1;32m---> 10\u001b[1;33m \u001b[1;33m@\u001b[0m\u001b[0mprofile\u001b[0m\u001b[1;33m\u001b[0m\u001b[1;33m\u001b[0m\u001b[0m\n\u001b[0m\u001b[0;32m     11\u001b[0m \u001b[1;32mdef\u001b[0m \u001b[0msome_fn\u001b[0m\u001b[1;33m(\u001b[0m\u001b[0museful_input\u001b[0m\u001b[1;33m)\u001b[0m\u001b[1;33m:\u001b[0m\u001b[1;33m\u001b[0m\u001b[1;33m\u001b[0m\u001b[0m\n\u001b[0;32m     12\u001b[0m     \u001b[1;34m\"\"\"An expensive function that we wish to both test and profile\"\"\"\u001b[0m\u001b[1;33m\u001b[0m\u001b[1;33m\u001b[0m\u001b[0m\n",
      "\u001b[1;31mNameError\u001b[0m: name 'profile' is not defined"
     ]
    }
   ],
   "source": [
    "import time\n",
    "\n",
    "def test_some_fn():\n",
    "    \"\"\"Check basic behaviours for our function\"\"\"\n",
    "    assert some_fn(2) == 4\n",
    "    assert some_fn(1) == 1\n",
    "    assert some_fn(-1) == 1\n",
    "    \n",
    "    \n",
    "@profile\n",
    "def some_fn(useful_input):\n",
    "    \"\"\"An expensive function that we wish to both test and profile\"\"\"\n",
    "    # artificial 'we're doing something clever and expensive' delay\n",
    "    time.sleep(1) \n",
    "    return useful_input ** 2\n",
    "\n",
    "\n",
    "if __name__ == \"__main__\":\n",
    "    print(f\"Example call `some_fn(2)` == {some_fn(2)}\")"
   ]
  },
  {
   "cell_type": "markdown",
   "id": "bdc51818",
   "metadata": {},
   "source": [
    "**예제 2-19** 데커레이터 누락으로 테스트가 중단됨  \n",
    "<span style=\"font-family: monospace\">~# python3 -m pytest utility1.py</span>"
   ]
  },
  {
   "cell_type": "code",
   "execution_count": null,
   "id": "32426766",
   "metadata": {},
   "outputs": [],
   "source": [
    "==================================== test session starts ====================================\n",
    "platform linux -- Python 3.8.10, pytest-4.6.9, py-1.11.0, pluggy-0.13.0\n",
    "rootdir: /root/hpp/high_performance_python_2e/02_profiling\n",
    "collected 0 items / 1 errors\n",
    "\n",
    "========================================== ERRORS ===========================================\n",
    "_______________________________ ERROR collecting utility1.py ________________________________\n",
    "utility1.py:10: in <module>\n",
    "    ???\n",
    "E   NameError: name 'profile' is not defined\n",
    "!!!!!!!!!!!!!!!!!!!!!!!!!! Interrupted: 1 errors during collection !!!!!!!!!!!!!!!!!!!!!!!!!!\n",
    "================================== 1 error in 0.06 seconds =================================="
   ]
  },
  {
   "cell_type": "markdown",
   "id": "5e699229",
   "metadata": {},
   "source": [
    "**예제 2-20** 네임스페이스에 아무 일도 하지 않는 @profiler 데커레이터 추가해서 단위 테스트하기"
   ]
  },
  {
   "cell_type": "code",
   "execution_count": null,
   "id": "59a1cb71",
   "metadata": {},
   "outputs": [],
   "source": [
    "# 라인 프로파일링 도구나 메모리 프로파일링 도구가 주입한\n",
    "# line_profiler나 memory_profiler가 로컬 영역에 있나 보자\n",
    "# 이 둘을 사용하지 않는다면 가짜 @profile 데커레이터를 추가해준다\n",
    "if 'line_profiler' not in dir() and 'profile' not in dir():\n",
    "    def profile(func):\n",
    "        def inner(*args, **kwargs):\n",
    "            return func(*args, **kwargs)\n",
    "        return inner"
   ]
  },
  {
   "cell_type": "markdown",
   "id": "579eb5b2",
   "metadata": {},
   "source": [
    "**예제 2-21** 아무 일도 하지 않는 데커레이터 추가로 테스트가 제대로 작동하며 프로파일러도 정상 작동함  \n",
    "<span style=\"font-family: monospace\">~# python3 -m pytest utility1.py</span>"
   ]
  },
  {
   "cell_type": "code",
   "execution_count": null,
   "id": "35a62fa1",
   "metadata": {},
   "outputs": [],
   "source": [
    "==================================== test session starts ====================================\n",
    "platform linux -- Python 3.8.10, pytest-4.6.9, py-1.11.0, pluggy-0.13.0\n",
    "rootdir: /root/hpp/high_performance_python_2e/02_profiling\n",
    "collected 1 item\n",
    "\n",
    "utility2.py .                                                                         [100%]\n",
    "\n",
    "================================= 1 passed in 3.03 seconds =================================="
   ]
  }
 ],
 "metadata": {
  "kernelspec": {
   "display_name": "Python 3",
   "language": "python",
   "name": "python3"
  },
  "language_info": {
   "codemirror_mode": {
    "name": "ipython",
    "version": 3
   },
   "file_extension": ".py",
   "mimetype": "text/x-python",
   "name": "python",
   "nbconvert_exporter": "python",
   "pygments_lexer": "ipython3",
   "version": "3.8.8"
  }
 },
 "nbformat": 4,
 "nbformat_minor": 5
}
